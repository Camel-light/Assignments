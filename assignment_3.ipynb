{
  "nbformat": 4,
  "nbformat_minor": 0,
  "metadata": {
    "colab": {
      "provenance": [],
      "include_colab_link": true
    },
    "kernelspec": {
      "name": "python3",
      "display_name": "Python 3"
    },
    "language_info": {
      "name": "python"
    },
    "gpuClass": "standard",
    "accelerator": "GPU"
  },
  "cells": [
    {
      "cell_type": "markdown",
      "metadata": {
        "id": "view-in-github",
        "colab_type": "text"
      },
      "source": [
        "<a href=\"https://colab.research.google.com/github/Camel-light/Assignments/blob/main/assignment_3.ipynb\" target=\"_parent\"><img src=\"https://colab.research.google.com/assets/colab-badge.svg\" alt=\"Open In Colab\"/></a>"
      ]
    },
    {
      "cell_type": "markdown",
      "source": [
        "## Framing the Problem\n",
        "In the previous homework we used a linear & random forest models to estimate housing prices. This time, do the same but on a different dataset.\n",
        "\n",
        "The CalCOFI data set is a long and complete time series of oceanographic and larval fish data that has been collected since 1949. It includes data on the abundance of fish larvae, larval length frequency, egg abundance, and oceanographic and plankton data. \n",
        "\n",
        "We will use this dataset to study if there a relationship between water salinity & water temperature? Can we predict the water temperature based on salinity?"
      ],
      "metadata": {
        "id": "v10yoQjR2ns5"
      }
    },
    {
      "cell_type": "markdown",
      "source": [
        "The following code imports some packages, mounts the Google Drive folder and loads the data. "
      ],
      "metadata": {
        "id": "PAICR2qXyXTr"
      }
    },
    {
      "cell_type": "code",
      "execution_count": 10,
      "metadata": {
        "id": "GoSAWWcmvXJp",
        "colab": {
          "base_uri": "https://localhost:8080/"
        },
        "outputId": "51803840-5ee3-4b84-8afa-d3e9c6eda12b"
      },
      "outputs": [
        {
          "output_type": "stream",
          "name": "stdout",
          "text": [
            "Drive already mounted at /content/drive; to attempt to forcibly remount, call drive.mount(\"/content/drive\", force_remount=True).\n"
          ]
        },
        {
          "output_type": "stream",
          "name": "stderr",
          "text": [
            "<ipython-input-10-5fa7d467d20d>:10: DtypeWarning: Columns (47,73) have mixed types. Specify dtype option on import or set low_memory=False.\n",
            "  data = pd.read_csv(\"/content/drive/MyDrive/Colab Notebooks/Lab3/bottle.csv\")\n"
          ]
        }
      ],
      "source": [
        "import pandas as pd\n",
        "import numpy as np\n",
        "from google.colab import drive\n",
        "from google.colab import data_table\n",
        "import matplotlib.pyplot as plt\n",
        "\n",
        "data_table.enable_dataframe_formatter()\n",
        "\n",
        "drive.mount('/content/drive')\n",
        "data = pd.read_csv(\"/content/drive/MyDrive/Colab Notebooks/Lab3/bottle.csv\")\n",
        "\n"
      ]
    },
    {
      "cell_type": "markdown",
      "source": [
        "We look at summaries of the data: head(), describe(), info()"
      ],
      "metadata": {
        "id": "NFA11U_E_67C"
      }
    },
    {
      "cell_type": "code",
      "source": [
        "data.info()"
      ],
      "metadata": {
        "id": "5TyaprNohbNB",
        "colab": {
          "base_uri": "https://localhost:8080/"
        },
        "outputId": "475233ee-1d93-47a5-ac01-c914071695a8"
      },
      "execution_count": 11,
      "outputs": [
        {
          "output_type": "stream",
          "name": "stdout",
          "text": [
            "<class 'pandas.core.frame.DataFrame'>\n",
            "RangeIndex: 864863 entries, 0 to 864862\n",
            "Data columns (total 74 columns):\n",
            " #   Column               Non-Null Count   Dtype  \n",
            "---  ------               --------------   -----  \n",
            " 0   Cst_Cnt              864863 non-null  int64  \n",
            " 1   Btl_Cnt              864863 non-null  int64  \n",
            " 2   Sta_ID               864863 non-null  object \n",
            " 3   Depth_ID             864863 non-null  object \n",
            " 4   Depthm               864863 non-null  int64  \n",
            " 5   T_degC               853900 non-null  float64\n",
            " 6   Salnty               817509 non-null  float64\n",
            " 7   O2ml_L               696201 non-null  float64\n",
            " 8   STheta               812174 non-null  float64\n",
            " 9   O2Sat                661274 non-null  float64\n",
            " 10  Oxy_µmol/Kg          661268 non-null  float64\n",
            " 11  BtlNum               118667 non-null  float64\n",
            " 12  RecInd               864863 non-null  int64  \n",
            " 13  T_prec               853900 non-null  float64\n",
            " 14  T_qual               23127 non-null   float64\n",
            " 15  S_prec               817509 non-null  float64\n",
            " 16  S_qual               74914 non-null   float64\n",
            " 17  P_qual               673755 non-null  float64\n",
            " 18  O_qual               184676 non-null  float64\n",
            " 19  SThtaq               65823 non-null   float64\n",
            " 20  O2Satq               217797 non-null  float64\n",
            " 21  ChlorA               225272 non-null  float64\n",
            " 22  Chlqua               639166 non-null  float64\n",
            " 23  Phaeop               225271 non-null  float64\n",
            " 24  Phaqua               639170 non-null  float64\n",
            " 25  PO4uM                413317 non-null  float64\n",
            " 26  PO4q                 451786 non-null  float64\n",
            " 27  SiO3uM               354091 non-null  float64\n",
            " 28  SiO3qu               510866 non-null  float64\n",
            " 29  NO2uM                337576 non-null  float64\n",
            " 30  NO2q                 529474 non-null  float64\n",
            " 31  NO3uM                337403 non-null  float64\n",
            " 32  NO3q                 529933 non-null  float64\n",
            " 33  NH3uM                64962 non-null   float64\n",
            " 34  NH3q                 808299 non-null  float64\n",
            " 35  C14As1               14432 non-null   float64\n",
            " 36  C14A1p               12760 non-null   float64\n",
            " 37  C14A1q               848605 non-null  float64\n",
            " 38  C14As2               14414 non-null   float64\n",
            " 39  C14A2p               12742 non-null   float64\n",
            " 40  C14A2q               848623 non-null  float64\n",
            " 41  DarkAs               22649 non-null   float64\n",
            " 42  DarkAp               20457 non-null   float64\n",
            " 43  DarkAq               840440 non-null  float64\n",
            " 44  MeanAs               22650 non-null   float64\n",
            " 45  MeanAp               20457 non-null   float64\n",
            " 46  MeanAq               840439 non-null  float64\n",
            " 47  IncTim               14437 non-null   object \n",
            " 48  LightP               18651 non-null   float64\n",
            " 49  R_Depth              864863 non-null  float64\n",
            " 50  R_TEMP               853900 non-null  float64\n",
            " 51  R_POTEMP             818816 non-null  float64\n",
            " 52  R_SALINITY           817509 non-null  float64\n",
            " 53  R_SIGMA              812007 non-null  float64\n",
            " 54  R_SVA                812092 non-null  float64\n",
            " 55  R_DYNHT              818206 non-null  float64\n",
            " 56  R_O2                 696201 non-null  float64\n",
            " 57  R_O2Sat              666448 non-null  float64\n",
            " 58  R_SIO3               354099 non-null  float64\n",
            " 59  R_PO4                413325 non-null  float64\n",
            " 60  R_NO3                337411 non-null  float64\n",
            " 61  R_NO2                337584 non-null  float64\n",
            " 62  R_NH4                64982 non-null   float64\n",
            " 63  R_CHLA               225276 non-null  float64\n",
            " 64  R_PHAEO              225275 non-null  float64\n",
            " 65  R_PRES               864863 non-null  int64  \n",
            " 66  R_SAMP               122006 non-null  float64\n",
            " 67  DIC1                 1999 non-null    float64\n",
            " 68  DIC2                 224 non-null     float64\n",
            " 69  TA1                  2084 non-null    float64\n",
            " 70  TA2                  234 non-null     float64\n",
            " 71  pH2                  10 non-null      float64\n",
            " 72  pH1                  84 non-null      float64\n",
            " 73  DIC Quality Comment  55 non-null      object \n",
            "dtypes: float64(65), int64(5), object(4)\n",
            "memory usage: 488.3+ MB\n"
          ]
        }
      ]
    },
    {
      "cell_type": "markdown",
      "source": [
        "As we can see, the dataset contains 74 columns, which are so many there are issues representing them all!\n",
        "\n",
        "Let's extract just salinity and temperature. They are called '*T_degC*', '*Salnty*'.\n",
        "\n"
      ],
      "metadata": {
        "id": "_Q4TtUy0RmK8"
      }
    },
    {
      "cell_type": "code",
      "source": [
        "temp_salinity_df = data[['T_degC','Salnty']]"
      ],
      "metadata": {
        "id": "PwmNMKlQWKEV"
      },
      "execution_count": 12,
      "outputs": []
    },
    {
      "cell_type": "code",
      "source": [
        "temp_salinity_df.head(10)"
      ],
      "metadata": {
        "id": "FAHXjn17_6aW",
        "colab": {
          "base_uri": "https://localhost:8080/",
          "height": 304
        },
        "outputId": "87b6afb5-b904-46eb-be47-5af077178e4a"
      },
      "execution_count": 13,
      "outputs": [
        {
          "output_type": "execute_result",
          "data": {
            "text/plain": [
              "   T_degC  Salnty\n",
              "0   10.50  33.440\n",
              "1   10.46  33.440\n",
              "2   10.46  33.437\n",
              "3   10.45  33.420\n",
              "4   10.45  33.421\n",
              "5   10.45  33.431\n",
              "6   10.45  33.440\n",
              "7   10.24  33.424\n",
              "8   10.06  33.420\n",
              "9    9.86  33.494"
            ],
            "text/html": [
              "\n",
              "  <div id=\"df-d050a192-c6ad-44f8-93e1-57b54a7f818b\">\n",
              "    <div class=\"colab-df-container\">\n",
              "      <div>\n",
              "<style scoped>\n",
              "    .dataframe tbody tr th:only-of-type {\n",
              "        vertical-align: middle;\n",
              "    }\n",
              "\n",
              "    .dataframe tbody tr th {\n",
              "        vertical-align: top;\n",
              "    }\n",
              "\n",
              "    .dataframe thead th {\n",
              "        text-align: right;\n",
              "    }\n",
              "</style>\n",
              "<table border=\"1\" class=\"dataframe\">\n",
              "  <thead>\n",
              "    <tr style=\"text-align: right;\">\n",
              "      <th></th>\n",
              "      <th>T_degC</th>\n",
              "      <th>Salnty</th>\n",
              "    </tr>\n",
              "  </thead>\n",
              "  <tbody>\n",
              "    <tr>\n",
              "      <th>0</th>\n",
              "      <td>10.50</td>\n",
              "      <td>33.440</td>\n",
              "    </tr>\n",
              "    <tr>\n",
              "      <th>1</th>\n",
              "      <td>10.46</td>\n",
              "      <td>33.440</td>\n",
              "    </tr>\n",
              "    <tr>\n",
              "      <th>2</th>\n",
              "      <td>10.46</td>\n",
              "      <td>33.437</td>\n",
              "    </tr>\n",
              "    <tr>\n",
              "      <th>3</th>\n",
              "      <td>10.45</td>\n",
              "      <td>33.420</td>\n",
              "    </tr>\n",
              "    <tr>\n",
              "      <th>4</th>\n",
              "      <td>10.45</td>\n",
              "      <td>33.421</td>\n",
              "    </tr>\n",
              "    <tr>\n",
              "      <th>5</th>\n",
              "      <td>10.45</td>\n",
              "      <td>33.431</td>\n",
              "    </tr>\n",
              "    <tr>\n",
              "      <th>6</th>\n",
              "      <td>10.45</td>\n",
              "      <td>33.440</td>\n",
              "    </tr>\n",
              "    <tr>\n",
              "      <th>7</th>\n",
              "      <td>10.24</td>\n",
              "      <td>33.424</td>\n",
              "    </tr>\n",
              "    <tr>\n",
              "      <th>8</th>\n",
              "      <td>10.06</td>\n",
              "      <td>33.420</td>\n",
              "    </tr>\n",
              "    <tr>\n",
              "      <th>9</th>\n",
              "      <td>9.86</td>\n",
              "      <td>33.494</td>\n",
              "    </tr>\n",
              "  </tbody>\n",
              "</table>\n",
              "</div>\n",
              "      <button class=\"colab-df-convert\" onclick=\"convertToInteractive('df-d050a192-c6ad-44f8-93e1-57b54a7f818b')\"\n",
              "              title=\"Convert this dataframe to an interactive table.\"\n",
              "              style=\"display:none;\">\n",
              "        \n",
              "  <svg xmlns=\"http://www.w3.org/2000/svg\" height=\"24px\"viewBox=\"0 0 24 24\"\n",
              "       width=\"24px\">\n",
              "    <path d=\"M0 0h24v24H0V0z\" fill=\"none\"/>\n",
              "    <path d=\"M18.56 5.44l.94 2.06.94-2.06 2.06-.94-2.06-.94-.94-2.06-.94 2.06-2.06.94zm-11 1L8.5 8.5l.94-2.06 2.06-.94-2.06-.94L8.5 2.5l-.94 2.06-2.06.94zm10 10l.94 2.06.94-2.06 2.06-.94-2.06-.94-.94-2.06-.94 2.06-2.06.94z\"/><path d=\"M17.41 7.96l-1.37-1.37c-.4-.4-.92-.59-1.43-.59-.52 0-1.04.2-1.43.59L10.3 9.45l-7.72 7.72c-.78.78-.78 2.05 0 2.83L4 21.41c.39.39.9.59 1.41.59.51 0 1.02-.2 1.41-.59l7.78-7.78 2.81-2.81c.8-.78.8-2.07 0-2.86zM5.41 20L4 18.59l7.72-7.72 1.47 1.35L5.41 20z\"/>\n",
              "  </svg>\n",
              "      </button>\n",
              "      \n",
              "  <style>\n",
              "    .colab-df-container {\n",
              "      display:flex;\n",
              "      flex-wrap:wrap;\n",
              "      gap: 12px;\n",
              "    }\n",
              "\n",
              "    .colab-df-convert {\n",
              "      background-color: #E8F0FE;\n",
              "      border: none;\n",
              "      border-radius: 50%;\n",
              "      cursor: pointer;\n",
              "      display: none;\n",
              "      fill: #1967D2;\n",
              "      height: 32px;\n",
              "      padding: 0 0 0 0;\n",
              "      width: 32px;\n",
              "    }\n",
              "\n",
              "    .colab-df-convert:hover {\n",
              "      background-color: #E2EBFA;\n",
              "      box-shadow: 0px 1px 2px rgba(60, 64, 67, 0.3), 0px 1px 3px 1px rgba(60, 64, 67, 0.15);\n",
              "      fill: #174EA6;\n",
              "    }\n",
              "\n",
              "    [theme=dark] .colab-df-convert {\n",
              "      background-color: #3B4455;\n",
              "      fill: #D2E3FC;\n",
              "    }\n",
              "\n",
              "    [theme=dark] .colab-df-convert:hover {\n",
              "      background-color: #434B5C;\n",
              "      box-shadow: 0px 1px 3px 1px rgba(0, 0, 0, 0.15);\n",
              "      filter: drop-shadow(0px 1px 2px rgba(0, 0, 0, 0.3));\n",
              "      fill: #FFFFFF;\n",
              "    }\n",
              "  </style>\n",
              "\n",
              "      <script>\n",
              "        const buttonEl =\n",
              "          document.querySelector('#df-d050a192-c6ad-44f8-93e1-57b54a7f818b button.colab-df-convert');\n",
              "        buttonEl.style.display =\n",
              "          google.colab.kernel.accessAllowed ? 'block' : 'none';\n",
              "\n",
              "        async function convertToInteractive(key) {\n",
              "          const element = document.querySelector('#df-d050a192-c6ad-44f8-93e1-57b54a7f818b');\n",
              "          const dataTable =\n",
              "            await google.colab.kernel.invokeFunction('convertToInteractive',\n",
              "                                                     [key], {});\n",
              "          if (!dataTable) return;\n",
              "\n",
              "          const docLinkHtml = 'Like what you see? Visit the ' +\n",
              "            '<a target=\"_blank\" href=https://colab.research.google.com/notebooks/data_table.ipynb>data table notebook</a>'\n",
              "            + ' to learn more about interactive tables.';\n",
              "          element.innerHTML = '';\n",
              "          dataTable['output_type'] = 'display_data';\n",
              "          await google.colab.output.renderOutput(dataTable, element);\n",
              "          const docLink = document.createElement('div');\n",
              "          docLink.innerHTML = docLinkHtml;\n",
              "          element.appendChild(docLink);\n",
              "        }\n",
              "      </script>\n",
              "    </div>\n",
              "  </div>\n",
              "  "
            ],
            "application/vnd.google.colaboratory.module+javascript": "\n      import \"https://ssl.gstatic.com/colaboratory/data_table/99dac6621f6ae8c4/data_table.js\";\n\n      window.createDataTable({\n        data: [[{\n            'v': 0,\n            'f': \"0\",\n        },\n{\n            'v': 10.5,\n            'f': \"10.5\",\n        },\n{\n            'v': 33.44,\n            'f': \"33.44\",\n        }],\n [{\n            'v': 1,\n            'f': \"1\",\n        },\n{\n            'v': 10.46,\n            'f': \"10.46\",\n        },\n{\n            'v': 33.44,\n            'f': \"33.44\",\n        }],\n [{\n            'v': 2,\n            'f': \"2\",\n        },\n{\n            'v': 10.46,\n            'f': \"10.46\",\n        },\n{\n            'v': 33.437,\n            'f': \"33.437\",\n        }],\n [{\n            'v': 3,\n            'f': \"3\",\n        },\n{\n            'v': 10.45,\n            'f': \"10.45\",\n        },\n{\n            'v': 33.42,\n            'f': \"33.42\",\n        }],\n [{\n            'v': 4,\n            'f': \"4\",\n        },\n{\n            'v': 10.45,\n            'f': \"10.45\",\n        },\n{\n            'v': 33.421,\n            'f': \"33.421\",\n        }],\n [{\n            'v': 5,\n            'f': \"5\",\n        },\n{\n            'v': 10.45,\n            'f': \"10.45\",\n        },\n{\n            'v': 33.431,\n            'f': \"33.431\",\n        }],\n [{\n            'v': 6,\n            'f': \"6\",\n        },\n{\n            'v': 10.45,\n            'f': \"10.45\",\n        },\n{\n            'v': 33.44,\n            'f': \"33.44\",\n        }],\n [{\n            'v': 7,\n            'f': \"7\",\n        },\n{\n            'v': 10.24,\n            'f': \"10.24\",\n        },\n{\n            'v': 33.424,\n            'f': \"33.424\",\n        }],\n [{\n            'v': 8,\n            'f': \"8\",\n        },\n{\n            'v': 10.06,\n            'f': \"10.06\",\n        },\n{\n            'v': 33.42,\n            'f': \"33.42\",\n        }],\n [{\n            'v': 9,\n            'f': \"9\",\n        },\n{\n            'v': 9.86,\n            'f': \"9.86\",\n        },\n{\n            'v': 33.494,\n            'f': \"33.494\",\n        }]],\n        columns: [[\"number\", \"index\"], [\"number\", \"T_degC\"], [\"number\", \"Salnty\"]],\n        columnOptions: [{\"width\": \"1px\", \"className\": \"index_column\"}],\n        rowsPerPage: 25,\n        helpUrl: \"https://colab.research.google.com/notebooks/data_table.ipynb\",\n        suppressOutputScrolling: true,\n        minimumWidth: undefined,\n      });\n    "
          },
          "metadata": {},
          "execution_count": 13
        }
      ]
    },
    {
      "cell_type": "code",
      "source": [
        "temp_salinity_df.describe()\n"
      ],
      "metadata": {
        "id": "xnZNnuE9AU9T",
        "colab": {
          "base_uri": "https://localhost:8080/",
          "height": 261
        },
        "outputId": "ffecc36b-4385-43ff-bac4-06fdb8348218"
      },
      "execution_count": 14,
      "outputs": [
        {
          "output_type": "execute_result",
          "data": {
            "text/plain": [
              "              T_degC         Salnty\n",
              "count  853900.000000  817509.000000\n",
              "mean       10.799677      33.840350\n",
              "std         4.243825       0.461843\n",
              "min         1.440000      28.431000\n",
              "25%         7.680000      33.488000\n",
              "50%        10.060000      33.863000\n",
              "75%        13.880000      34.196900\n",
              "max        31.140000      37.034000"
            ],
            "text/html": [
              "\n",
              "  <div id=\"df-db7ffa6c-6eb8-4ccd-98b3-d1cae21a193d\">\n",
              "    <div class=\"colab-df-container\">\n",
              "      <div>\n",
              "<style scoped>\n",
              "    .dataframe tbody tr th:only-of-type {\n",
              "        vertical-align: middle;\n",
              "    }\n",
              "\n",
              "    .dataframe tbody tr th {\n",
              "        vertical-align: top;\n",
              "    }\n",
              "\n",
              "    .dataframe thead th {\n",
              "        text-align: right;\n",
              "    }\n",
              "</style>\n",
              "<table border=\"1\" class=\"dataframe\">\n",
              "  <thead>\n",
              "    <tr style=\"text-align: right;\">\n",
              "      <th></th>\n",
              "      <th>T_degC</th>\n",
              "      <th>Salnty</th>\n",
              "    </tr>\n",
              "  </thead>\n",
              "  <tbody>\n",
              "    <tr>\n",
              "      <th>count</th>\n",
              "      <td>853900.000000</td>\n",
              "      <td>817509.000000</td>\n",
              "    </tr>\n",
              "    <tr>\n",
              "      <th>mean</th>\n",
              "      <td>10.799677</td>\n",
              "      <td>33.840350</td>\n",
              "    </tr>\n",
              "    <tr>\n",
              "      <th>std</th>\n",
              "      <td>4.243825</td>\n",
              "      <td>0.461843</td>\n",
              "    </tr>\n",
              "    <tr>\n",
              "      <th>min</th>\n",
              "      <td>1.440000</td>\n",
              "      <td>28.431000</td>\n",
              "    </tr>\n",
              "    <tr>\n",
              "      <th>25%</th>\n",
              "      <td>7.680000</td>\n",
              "      <td>33.488000</td>\n",
              "    </tr>\n",
              "    <tr>\n",
              "      <th>50%</th>\n",
              "      <td>10.060000</td>\n",
              "      <td>33.863000</td>\n",
              "    </tr>\n",
              "    <tr>\n",
              "      <th>75%</th>\n",
              "      <td>13.880000</td>\n",
              "      <td>34.196900</td>\n",
              "    </tr>\n",
              "    <tr>\n",
              "      <th>max</th>\n",
              "      <td>31.140000</td>\n",
              "      <td>37.034000</td>\n",
              "    </tr>\n",
              "  </tbody>\n",
              "</table>\n",
              "</div>\n",
              "      <button class=\"colab-df-convert\" onclick=\"convertToInteractive('df-db7ffa6c-6eb8-4ccd-98b3-d1cae21a193d')\"\n",
              "              title=\"Convert this dataframe to an interactive table.\"\n",
              "              style=\"display:none;\">\n",
              "        \n",
              "  <svg xmlns=\"http://www.w3.org/2000/svg\" height=\"24px\"viewBox=\"0 0 24 24\"\n",
              "       width=\"24px\">\n",
              "    <path d=\"M0 0h24v24H0V0z\" fill=\"none\"/>\n",
              "    <path d=\"M18.56 5.44l.94 2.06.94-2.06 2.06-.94-2.06-.94-.94-2.06-.94 2.06-2.06.94zm-11 1L8.5 8.5l.94-2.06 2.06-.94-2.06-.94L8.5 2.5l-.94 2.06-2.06.94zm10 10l.94 2.06.94-2.06 2.06-.94-2.06-.94-.94-2.06-.94 2.06-2.06.94z\"/><path d=\"M17.41 7.96l-1.37-1.37c-.4-.4-.92-.59-1.43-.59-.52 0-1.04.2-1.43.59L10.3 9.45l-7.72 7.72c-.78.78-.78 2.05 0 2.83L4 21.41c.39.39.9.59 1.41.59.51 0 1.02-.2 1.41-.59l7.78-7.78 2.81-2.81c.8-.78.8-2.07 0-2.86zM5.41 20L4 18.59l7.72-7.72 1.47 1.35L5.41 20z\"/>\n",
              "  </svg>\n",
              "      </button>\n",
              "      \n",
              "  <style>\n",
              "    .colab-df-container {\n",
              "      display:flex;\n",
              "      flex-wrap:wrap;\n",
              "      gap: 12px;\n",
              "    }\n",
              "\n",
              "    .colab-df-convert {\n",
              "      background-color: #E8F0FE;\n",
              "      border: none;\n",
              "      border-radius: 50%;\n",
              "      cursor: pointer;\n",
              "      display: none;\n",
              "      fill: #1967D2;\n",
              "      height: 32px;\n",
              "      padding: 0 0 0 0;\n",
              "      width: 32px;\n",
              "    }\n",
              "\n",
              "    .colab-df-convert:hover {\n",
              "      background-color: #E2EBFA;\n",
              "      box-shadow: 0px 1px 2px rgba(60, 64, 67, 0.3), 0px 1px 3px 1px rgba(60, 64, 67, 0.15);\n",
              "      fill: #174EA6;\n",
              "    }\n",
              "\n",
              "    [theme=dark] .colab-df-convert {\n",
              "      background-color: #3B4455;\n",
              "      fill: #D2E3FC;\n",
              "    }\n",
              "\n",
              "    [theme=dark] .colab-df-convert:hover {\n",
              "      background-color: #434B5C;\n",
              "      box-shadow: 0px 1px 3px 1px rgba(0, 0, 0, 0.15);\n",
              "      filter: drop-shadow(0px 1px 2px rgba(0, 0, 0, 0.3));\n",
              "      fill: #FFFFFF;\n",
              "    }\n",
              "  </style>\n",
              "\n",
              "      <script>\n",
              "        const buttonEl =\n",
              "          document.querySelector('#df-db7ffa6c-6eb8-4ccd-98b3-d1cae21a193d button.colab-df-convert');\n",
              "        buttonEl.style.display =\n",
              "          google.colab.kernel.accessAllowed ? 'block' : 'none';\n",
              "\n",
              "        async function convertToInteractive(key) {\n",
              "          const element = document.querySelector('#df-db7ffa6c-6eb8-4ccd-98b3-d1cae21a193d');\n",
              "          const dataTable =\n",
              "            await google.colab.kernel.invokeFunction('convertToInteractive',\n",
              "                                                     [key], {});\n",
              "          if (!dataTable) return;\n",
              "\n",
              "          const docLinkHtml = 'Like what you see? Visit the ' +\n",
              "            '<a target=\"_blank\" href=https://colab.research.google.com/notebooks/data_table.ipynb>data table notebook</a>'\n",
              "            + ' to learn more about interactive tables.';\n",
              "          element.innerHTML = '';\n",
              "          dataTable['output_type'] = 'display_data';\n",
              "          await google.colab.output.renderOutput(dataTable, element);\n",
              "          const docLink = document.createElement('div');\n",
              "          docLink.innerHTML = docLinkHtml;\n",
              "          element.appendChild(docLink);\n",
              "        }\n",
              "      </script>\n",
              "    </div>\n",
              "  </div>\n",
              "  "
            ],
            "application/vnd.google.colaboratory.module+javascript": "\n      import \"https://ssl.gstatic.com/colaboratory/data_table/99dac6621f6ae8c4/data_table.js\";\n\n      window.createDataTable({\n        data: [[\"count\",\n{\n            'v': 853900.0,\n            'f': \"853900.0\",\n        },\n{\n            'v': 817509.0,\n            'f': \"817509.0\",\n        }],\n [\"mean\",\n{\n            'v': 10.799676920014052,\n            'f': \"10.799676920014052\",\n        },\n{\n            'v': 33.84035029388055,\n            'f': \"33.84035029388055\",\n        }],\n [\"std\",\n{\n            'v': 4.243824655153119,\n            'f': \"4.243824655153119\",\n        },\n{\n            'v': 0.4618433633802985,\n            'f': \"0.4618433633802985\",\n        }],\n [\"min\",\n{\n            'v': 1.44,\n            'f': \"1.44\",\n        },\n{\n            'v': 28.431,\n            'f': \"28.431\",\n        }],\n [\"25%\",\n{\n            'v': 7.68,\n            'f': \"7.68\",\n        },\n{\n            'v': 33.488,\n            'f': \"33.488\",\n        }],\n [\"50%\",\n{\n            'v': 10.06,\n            'f': \"10.06\",\n        },\n{\n            'v': 33.863,\n            'f': \"33.863\",\n        }],\n [\"75%\",\n{\n            'v': 13.88,\n            'f': \"13.88\",\n        },\n{\n            'v': 34.1969,\n            'f': \"34.1969\",\n        }],\n [\"max\",\n{\n            'v': 31.14,\n            'f': \"31.14\",\n        },\n{\n            'v': 37.034,\n            'f': \"37.034\",\n        }]],\n        columns: [[\"string\", \"index\"], [\"number\", \"T_degC\"], [\"number\", \"Salnty\"]],\n        columnOptions: [{\"width\": \"1px\", \"className\": \"index_column\"}],\n        rowsPerPage: 25,\n        helpUrl: \"https://colab.research.google.com/notebooks/data_table.ipynb\",\n        suppressOutputScrolling: true,\n        minimumWidth: undefined,\n      });\n    "
          },
          "metadata": {},
          "execution_count": 14
        }
      ]
    },
    {
      "cell_type": "markdown",
      "source": [
        "We can notice that *Salnty* has a much lower standard deviation than the temperature."
      ],
      "metadata": {
        "id": "amsPGTw4YaCl"
      }
    },
    {
      "cell_type": "code",
      "source": [
        "temp_salinity_df.info()"
      ],
      "metadata": {
        "colab": {
          "base_uri": "https://localhost:8080/"
        },
        "id": "7scoUkIHZxGf",
        "outputId": "60e90f88-06fc-4927-97ea-c42449a0ccbe"
      },
      "execution_count": 15,
      "outputs": [
        {
          "output_type": "stream",
          "name": "stdout",
          "text": [
            "<class 'pandas.core.frame.DataFrame'>\n",
            "RangeIndex: 864863 entries, 0 to 864862\n",
            "Data columns (total 2 columns):\n",
            " #   Column  Non-Null Count   Dtype  \n",
            "---  ------  --------------   -----  \n",
            " 0   T_degC  853900 non-null  float64\n",
            " 1   Salnty  817509 non-null  float64\n",
            "dtypes: float64(2)\n",
            "memory usage: 13.2 MB\n"
          ]
        }
      ]
    },
    {
      "cell_type": "code",
      "source": [
        "# pd.set_option('display.max_rows', None) # Only needed if running corr() on entire data\n",
        "corr_matrix = temp_salinity_df.corr()\n",
        "corr_matrix[\"T_degC\"].sort_values(ascending=False)"
      ],
      "metadata": {
        "id": "omd_H0pMT7oa",
        "colab": {
          "base_uri": "https://localhost:8080/"
        },
        "outputId": "de936692-679f-4ec6-a52a-4f7eb9b5c03d"
      },
      "execution_count": 16,
      "outputs": [
        {
          "output_type": "execute_result",
          "data": {
            "text/plain": [
              "T_degC    1.000000\n",
              "Salnty   -0.505266\n",
              "Name: T_degC, dtype: float64"
            ]
          },
          "metadata": {},
          "execution_count": 16
        }
      ]
    },
    {
      "cell_type": "markdown",
      "source": [
        "Lets plot them. We notice that the temperature has a  right skew and that the salinity is multimodal. The smaller standard dev is confirmed in the grapg for *salnty*"
      ],
      "metadata": {
        "id": "jvSXyyFFWuPC"
      }
    },
    {
      "cell_type": "code",
      "source": [
        "import matplotlib.pyplot as plt\n",
        "temp_salinity_df.hist(bins=70, figsize=(16,15))\n",
        "plt.show()"
      ],
      "metadata": {
        "id": "s-VqnAPZRX7Z",
        "colab": {
          "base_uri": "https://localhost:8080/",
          "height": 879
        },
        "outputId": "dae694fa-bd02-4f52-8def-463b18f1a66c"
      },
      "execution_count": 17,
      "outputs": [
        {
          "output_type": "display_data",
          "data": {
            "text/plain": [
              "<Figure size 1152x1080 with 2 Axes>"
            ],
            "image/png": "[encoded data removed]"
          },
          "metadata": {
            "needs_background": "light"
          }
        }
      ]
    },
    {
      "cell_type": "markdown",
      "source": [
        "Let's see if the data contains Null values. There are 1.28 % null values for temperature and 5.8% null values for salinity. It's not much, especially for temperature and we could  drop the rows. But we will use SimpleImputer as an exercise instead. It has the benefit of storing the median value of each feature, which allows it to impute missing values not only in the training set but also in the validation set, test set, and any new data fed to the model. To use it, a SimpleImputer instance needs to be created. It will use the imputation strategy median, this will impute missing values in the dataset by replacing them with the median value of the corresponding feature."
      ],
      "metadata": {
        "id": "PK3vZKF6a6_z"
      }
    },
    {
      "cell_type": "code",
      "source": [
        "mask = temp_salinity_df.isnull().any(axis=1)\n",
        "temp_salinity_df[mask]\n"
      ],
      "metadata": {
        "id": "B2GJs8Sp5kfB",
        "colab": {
          "base_uri": "https://localhost:8080/",
          "height": 441
        },
        "outputId": "7856b62d-72bd-48d2-aa10-e0bdf67acbc9"
      },
      "execution_count": 18,
      "outputs": [
        {
          "output_type": "stream",
          "name": "stdout",
          "text": [
            "Warning: total number of rows (50616) exceeds max_rows (20000). Falling back to pandas display.\n"
          ]
        },
        {
          "output_type": "execute_result",
          "data": {
            "text/plain": [
              "        T_degC  Salnty\n",
              "17        8.45     NaN\n",
              "98        9.97     NaN\n",
              "129      10.20     NaN\n",
              "222      12.23     NaN\n",
              "264        NaN   33.95\n",
              "...        ...     ...\n",
              "810515   14.88     NaN\n",
              "810524   15.10     NaN\n",
              "811305   15.27     NaN\n",
              "828253   13.58     NaN\n",
              "828290   13.34     NaN\n",
              "\n",
              "[50616 rows x 2 columns]"
            ],
            "text/html": [
              "\n",
              "  <div id=\"df-cf3a8265-3c0d-4568-8370-2b859d3ce54c\">\n",
              "    <div class=\"colab-df-container\">\n",
              "      <div>\n",
              "<style scoped>\n",
              "    .dataframe tbody tr th:only-of-type {\n",
              "        vertical-align: middle;\n",
              "    }\n",
              "\n",
              "    .dataframe tbody tr th {\n",
              "        vertical-align: top;\n",
              "    }\n",
              "\n",
              "    .dataframe thead th {\n",
              "        text-align: right;\n",
              "    }\n",
              "</style>\n",
              "<table border=\"1\" class=\"dataframe\">\n",
              "  <thead>\n",
              "    <tr style=\"text-align: right;\">\n",
              "      <th></th>\n",
              "      <th>T_degC</th>\n",
              "      <th>Salnty</th>\n",
              "    </tr>\n",
              "  </thead>\n",
              "  <tbody>\n",
              "    <tr>\n",
              "      <th>17</th>\n",
              "      <td>8.45</td>\n",
              "      <td>NaN</td>\n",
              "    </tr>\n",
              "    <tr>\n",
              "      <th>98</th>\n",
              "      <td>9.97</td>\n",
              "      <td>NaN</td>\n",
              "    </tr>\n",
              "    <tr>\n",
              "      <th>129</th>\n",
              "      <td>10.20</td>\n",
              "      <td>NaN</td>\n",
              "    </tr>\n",
              "    <tr>\n",
              "      <th>222</th>\n",
              "      <td>12.23</td>\n",
              "      <td>NaN</td>\n",
              "    </tr>\n",
              "    <tr>\n",
              "      <th>264</th>\n",
              "      <td>NaN</td>\n",
              "      <td>33.95</td>\n",
              "    </tr>\n",
              "    <tr>\n",
              "      <th>...</th>\n",
              "      <td>...</td>\n",
              "      <td>...</td>\n",
              "    </tr>\n",
              "    <tr>\n",
              "      <th>810515</th>\n",
              "      <td>14.88</td>\n",
              "      <td>NaN</td>\n",
              "    </tr>\n",
              "    <tr>\n",
              "      <th>810524</th>\n",
              "      <td>15.10</td>\n",
              "      <td>NaN</td>\n",
              "    </tr>\n",
              "    <tr>\n",
              "      <th>811305</th>\n",
              "      <td>15.27</td>\n",
              "      <td>NaN</td>\n",
              "    </tr>\n",
              "    <tr>\n",
              "      <th>828253</th>\n",
              "      <td>13.58</td>\n",
              "      <td>NaN</td>\n",
              "    </tr>\n",
              "    <tr>\n",
              "      <th>828290</th>\n",
              "      <td>13.34</td>\n",
              "      <td>NaN</td>\n",
              "    </tr>\n",
              "  </tbody>\n",
              "</table>\n",
              "<p>50616 rows × 2 columns</p>\n",
              "</div>\n",
              "      <button class=\"colab-df-convert\" onclick=\"convertToInteractive('df-cf3a8265-3c0d-4568-8370-2b859d3ce54c')\"\n",
              "              title=\"Convert this dataframe to an interactive table.\"\n",
              "              style=\"display:none;\">\n",
              "        \n",
              "  <svg xmlns=\"http://www.w3.org/2000/svg\" height=\"24px\"viewBox=\"0 0 24 24\"\n",
              "       width=\"24px\">\n",
              "    <path d=\"M0 0h24v24H0V0z\" fill=\"none\"/>\n",
              "    <path d=\"M18.56 5.44l.94 2.06.94-2.06 2.06-.94-2.06-.94-.94-2.06-.94 2.06-2.06.94zm-11 1L8.5 8.5l.94-2.06 2.06-.94-2.06-.94L8.5 2.5l-.94 2.06-2.06.94zm10 10l.94 2.06.94-2.06 2.06-.94-2.06-.94-.94-2.06-.94 2.06-2.06.94z\"/><path d=\"M17.41 7.96l-1.37-1.37c-.4-.4-.92-.59-1.43-.59-.52 0-1.04.2-1.43.59L10.3 9.45l-7.72 7.72c-.78.78-.78 2.05 0 2.83L4 21.41c.39.39.9.59 1.41.59.51 0 1.02-.2 1.41-.59l7.78-7.78 2.81-2.81c.8-.78.8-2.07 0-2.86zM5.41 20L4 18.59l7.72-7.72 1.47 1.35L5.41 20z\"/>\n",
              "  </svg>\n",
              "      </button>\n",
              "      \n",
              "  <style>\n",
              "    .colab-df-container {\n",
              "      display:flex;\n",
              "      flex-wrap:wrap;\n",
              "      gap: 12px;\n",
              "    }\n",
              "\n",
              "    .colab-df-convert {\n",
              "      background-color: #E8F0FE;\n",
              "      border: none;\n",
              "      border-radius: 50%;\n",
              "      cursor: pointer;\n",
              "      display: none;\n",
              "      fill: #1967D2;\n",
              "      height: 32px;\n",
              "      padding: 0 0 0 0;\n",
              "      width: 32px;\n",
              "    }\n",
              "\n",
              "    .colab-df-convert:hover {\n",
              "      background-color: #E2EBFA;\n",
              "      box-shadow: 0px 1px 2px rgba(60, 64, 67, 0.3), 0px 1px 3px 1px rgba(60, 64, 67, 0.15);\n",
              "      fill: #174EA6;\n",
              "    }\n",
              "\n",
              "    [theme=dark] .colab-df-convert {\n",
              "      background-color: #3B4455;\n",
              "      fill: #D2E3FC;\n",
              "    }\n",
              "\n",
              "    [theme=dark] .colab-df-convert:hover {\n",
              "      background-color: #434B5C;\n",
              "      box-shadow: 0px 1px 3px 1px rgba(0, 0, 0, 0.15);\n",
              "      filter: drop-shadow(0px 1px 2px rgba(0, 0, 0, 0.3));\n",
              "      fill: #FFFFFF;\n",
              "    }\n",
              "  </style>\n",
              "\n",
              "      <script>\n",
              "        const buttonEl =\n",
              "          document.querySelector('#df-cf3a8265-3c0d-4568-8370-2b859d3ce54c button.colab-df-convert');\n",
              "        buttonEl.style.display =\n",
              "          google.colab.kernel.accessAllowed ? 'block' : 'none';\n",
              "\n",
              "        async function convertToInteractive(key) {\n",
              "          const element = document.querySelector('#df-cf3a8265-3c0d-4568-8370-2b859d3ce54c');\n",
              "          const dataTable =\n",
              "            await google.colab.kernel.invokeFunction('convertToInteractive',\n",
              "                                                     [key], {});\n",
              "          if (!dataTable) return;\n",
              "\n",
              "          const docLinkHtml = 'Like what you see? Visit the ' +\n",
              "            '<a target=\"_blank\" href=https://colab.research.google.com/notebooks/data_table.ipynb>data table notebook</a>'\n",
              "            + ' to learn more about interactive tables.';\n",
              "          element.innerHTML = '';\n",
              "          dataTable['output_type'] = 'display_data';\n",
              "          await google.colab.output.renderOutput(dataTable, element);\n",
              "          const docLink = document.createElement('div');\n",
              "          docLink.innerHTML = docLinkHtml;\n",
              "          element.appendChild(docLink);\n",
              "        }\n",
              "      </script>\n",
              "    </div>\n",
              "  </div>\n",
              "  "
            ]
          },
          "metadata": {},
          "execution_count": 18
        }
      ]
    },
    {
      "cell_type": "code",
      "source": [
        "print(temp_salinity_df.isnull().sum())\n",
        "print(temp_salinity_df.count())\n",
        "print((temp_salinity_df.isnull().sum()/temp_salinity_df.count())*100)"
      ],
      "metadata": {
        "colab": {
          "base_uri": "https://localhost:8080/"
        },
        "id": "qGr3NFEObBjf",
        "outputId": "332b93a6-23b6-4613-9cbd-b19cb10170a8"
      },
      "execution_count": 19,
      "outputs": [
        {
          "output_type": "stream",
          "name": "stdout",
          "text": [
            "T_degC    10963\n",
            "Salnty    47354\n",
            "dtype: int64\n",
            "T_degC    853900\n",
            "Salnty    817509\n",
            "dtype: int64\n",
            "T_degC    1.283874\n",
            "Salnty    5.792474\n",
            "dtype: float64\n"
          ]
        }
      ]
    },
    {
      "cell_type": "code",
      "source": [
        "from sklearn.impute import SimpleImputer\n",
        "imputer = SimpleImputer(strategy=\"median\")\n",
        "# temp_salinity_df_imputed = temp_salinity_df.copy()\n",
        "imputer.fit(temp_salinity_df)\n",
        "# To verify\n",
        "print(imputer.statistics_)\n",
        "print(temp_salinity_df.median().values)\n",
        "X = imputer.transform(temp_salinity_df)\n",
        "temp_salinity_df_imputed = pd.DataFrame(X, columns=temp_salinity_df.columns,\n",
        " index=temp_salinity_df.index)\n",
        "# Test if still null values\n",
        "print(temp_salinity_df_imputed.isnull().sum())\n",
        "\n",
        "#Overwrite original df\n",
        "temp_salinity_df = temp_salinity_df_imputed.copy()"
      ],
      "metadata": {
        "colab": {
          "base_uri": "https://localhost:8080/"
        },
        "id": "djwKHp2JdFI9",
        "outputId": "65d343bf-c7a9-4d20-e864-5ee811ce43ba"
      },
      "execution_count": 20,
      "outputs": [
        {
          "output_type": "stream",
          "name": "stdout",
          "text": [
            "[10.06  33.863]\n",
            "[10.06  33.863]\n",
            "T_degC    0\n",
            "Salnty    0\n",
            "dtype: int64\n"
          ]
        }
      ]
    },
    {
      "cell_type": "markdown",
      "source": [
        "##Create a Test Set\n",
        "**Stratified sampling**\n",
        "\n",
        "\n",
        "Stratified sampling is used to ensure that the dataset is representative of the population. For example, if the population is 50/50 - males/females, it is necessary to have a representative sample. To do so, the population is divided into homogeneous subgroups called strata, and the right number of instances are sampled from each stratum to guarantee that the test set is representative of the overall population.\n",
        "\n",
        "\n",
        "We will create a stratified train and test set as an exercise, which will be named *train_set* and *test_set*. We add an extra column for this, which divides the temperatures from the dataset into 5 different categories. At the end, we overwrite our dataset with the training dataset with *data = train_set.copy()*."
      ],
      "metadata": {
        "id": "h49GWzJnhZQK"
      }
    },
    {
      "cell_type": "code",
      "source": [
        "from sklearn.model_selection import train_test_split\n",
        "temp_salinity_df[\"temp_cat\"] = pd.cut(np.log(temp_salinity_df[\"T_degC\"]), bins=5, labels=[1, 2, 3, 4, 5])\n",
        "\n",
        "train_set, test_set = train_test_split(temp_salinity_df, test_size=0.2, stratify=temp_salinity_df[\"temp_cat\"], random_state=42)\n",
        "\n",
        "# tested the memory address to see if copy() was necessary\n",
        "print(id(train_set))\n",
        "train_set = train_set.copy()\n",
        "test_set = test_set.copy()\n",
        "print(id(train_set))"
      ],
      "metadata": {
        "id": "JliA_yyunK09",
        "colab": {
          "base_uri": "https://localhost:8080/"
        },
        "outputId": "cb1bab60-2463-47af-9e62-1975dc3689ec"
      },
      "execution_count": 21,
      "outputs": [
        {
          "output_type": "stream",
          "name": "stdout",
          "text": [
            "139674571894112\n",
            "139674442269504\n"
          ]
        }
      ]
    },
    {
      "cell_type": "code",
      "source": [
        "temp_salinity_df = train_set.copy()\n",
        "temp_salinity_df.head(7)"
      ],
      "metadata": {
        "id": "CuVCysJPrype",
        "colab": {
          "base_uri": "https://localhost:8080/",
          "height": 240
        },
        "outputId": "7e9d18c4-42d2-4c10-de5b-c2b2473f95ca"
      },
      "execution_count": 22,
      "outputs": [
        {
          "output_type": "execute_result",
          "data": {
            "text/plain": [
              "        T_degC   Salnty temp_cat\n",
              "293956   9.580  33.9100        4\n",
              "83413   13.880  33.8630        4\n",
              "451139  11.870  34.3200        4\n",
              "851494   5.967  34.2225        3\n",
              "31958   17.420  33.8400        5\n",
              "754173  15.270  32.9800        4\n",
              "628698  19.220  33.4180        5"
            ],
            "text/html": [
              "\n",
              "  <div id=\"df-575e1502-fc2d-46c6-9f63-81bf2bd11321\">\n",
              "    <div class=\"colab-df-container\">\n",
              "      <div>\n",
              "<style scoped>\n",
              "    .dataframe tbody tr th:only-of-type {\n",
              "        vertical-align: middle;\n",
              "    }\n",
              "\n",
              "    .dataframe tbody tr th {\n",
              "        vertical-align: top;\n",
              "    }\n",
              "\n",
              "    .dataframe thead th {\n",
              "        text-align: right;\n",
              "    }\n",
              "</style>\n",
              "<table border=\"1\" class=\"dataframe\">\n",
              "  <thead>\n",
              "    <tr style=\"text-align: right;\">\n",
              "      <th></th>\n",
              "      <th>T_degC</th>\n",
              "      <th>Salnty</th>\n",
              "      <th>temp_cat</th>\n",
              "    </tr>\n",
              "  </thead>\n",
              "  <tbody>\n",
              "    <tr>\n",
              "      <th>293956</th>\n",
              "      <td>9.580</td>\n",
              "      <td>33.9100</td>\n",
              "      <td>4</td>\n",
              "    </tr>\n",
              "    <tr>\n",
              "      <th>83413</th>\n",
              "      <td>13.880</td>\n",
              "      <td>33.8630</td>\n",
              "      <td>4</td>\n",
              "    </tr>\n",
              "    <tr>\n",
              "      <th>451139</th>\n",
              "      <td>11.870</td>\n",
              "      <td>34.3200</td>\n",
              "      <td>4</td>\n",
              "    </tr>\n",
              "    <tr>\n",
              "      <th>851494</th>\n",
              "      <td>5.967</td>\n",
              "      <td>34.2225</td>\n",
              "      <td>3</td>\n",
              "    </tr>\n",
              "    <tr>\n",
              "      <th>31958</th>\n",
              "      <td>17.420</td>\n",
              "      <td>33.8400</td>\n",
              "      <td>5</td>\n",
              "    </tr>\n",
              "    <tr>\n",
              "      <th>754173</th>\n",
              "      <td>15.270</td>\n",
              "      <td>32.9800</td>\n",
              "      <td>4</td>\n",
              "    </tr>\n",
              "    <tr>\n",
              "      <th>628698</th>\n",
              "      <td>19.220</td>\n",
              "      <td>33.4180</td>\n",
              "      <td>5</td>\n",
              "    </tr>\n",
              "  </tbody>\n",
              "</table>\n",
              "</div>\n",
              "      <button class=\"colab-df-convert\" onclick=\"convertToInteractive('df-575e1502-fc2d-46c6-9f63-81bf2bd11321')\"\n",
              "              title=\"Convert this dataframe to an interactive table.\"\n",
              "              style=\"display:none;\">\n",
              "        \n",
              "  <svg xmlns=\"http://www.w3.org/2000/svg\" height=\"24px\"viewBox=\"0 0 24 24\"\n",
              "       width=\"24px\">\n",
              "    <path d=\"M0 0h24v24H0V0z\" fill=\"none\"/>\n",
              "    <path d=\"M18.56 5.44l.94 2.06.94-2.06 2.06-.94-2.06-.94-.94-2.06-.94 2.06-2.06.94zm-11 1L8.5 8.5l.94-2.06 2.06-.94-2.06-.94L8.5 2.5l-.94 2.06-2.06.94zm10 10l.94 2.06.94-2.06 2.06-.94-2.06-.94-.94-2.06-.94 2.06-2.06.94z\"/><path d=\"M17.41 7.96l-1.37-1.37c-.4-.4-.92-.59-1.43-.59-.52 0-1.04.2-1.43.59L10.3 9.45l-7.72 7.72c-.78.78-.78 2.05 0 2.83L4 21.41c.39.39.9.59 1.41.59.51 0 1.02-.2 1.41-.59l7.78-7.78 2.81-2.81c.8-.78.8-2.07 0-2.86zM5.41 20L4 18.59l7.72-7.72 1.47 1.35L5.41 20z\"/>\n",
              "  </svg>\n",
              "      </button>\n",
              "      \n",
              "  <style>\n",
              "    .colab-df-container {\n",
              "      display:flex;\n",
              "      flex-wrap:wrap;\n",
              "      gap: 12px;\n",
              "    }\n",
              "\n",
              "    .colab-df-convert {\n",
              "      background-color: #E8F0FE;\n",
              "      border: none;\n",
              "      border-radius: 50%;\n",
              "      cursor: pointer;\n",
              "      display: none;\n",
              "      fill: #1967D2;\n",
              "      height: 32px;\n",
              "      padding: 0 0 0 0;\n",
              "      width: 32px;\n",
              "    }\n",
              "\n",
              "    .colab-df-convert:hover {\n",
              "      background-color: #E2EBFA;\n",
              "      box-shadow: 0px 1px 2px rgba(60, 64, 67, 0.3), 0px 1px 3px 1px rgba(60, 64, 67, 0.15);\n",
              "      fill: #174EA6;\n",
              "    }\n",
              "\n",
              "    [theme=dark] .colab-df-convert {\n",
              "      background-color: #3B4455;\n",
              "      fill: #D2E3FC;\n",
              "    }\n",
              "\n",
              "    [theme=dark] .colab-df-convert:hover {\n",
              "      background-color: #434B5C;\n",
              "      box-shadow: 0px 1px 3px 1px rgba(0, 0, 0, 0.15);\n",
              "      filter: drop-shadow(0px 1px 2px rgba(0, 0, 0, 0.3));\n",
              "      fill: #FFFFFF;\n",
              "    }\n",
              "  </style>\n",
              "\n",
              "      <script>\n",
              "        const buttonEl =\n",
              "          document.querySelector('#df-575e1502-fc2d-46c6-9f63-81bf2bd11321 button.colab-df-convert');\n",
              "        buttonEl.style.display =\n",
              "          google.colab.kernel.accessAllowed ? 'block' : 'none';\n",
              "\n",
              "        async function convertToInteractive(key) {\n",
              "          const element = document.querySelector('#df-575e1502-fc2d-46c6-9f63-81bf2bd11321');\n",
              "          const dataTable =\n",
              "            await google.colab.kernel.invokeFunction('convertToInteractive',\n",
              "                                                     [key], {});\n",
              "          if (!dataTable) return;\n",
              "\n",
              "          const docLinkHtml = 'Like what you see? Visit the ' +\n",
              "            '<a target=\"_blank\" href=https://colab.research.google.com/notebooks/data_table.ipynb>data table notebook</a>'\n",
              "            + ' to learn more about interactive tables.';\n",
              "          element.innerHTML = '';\n",
              "          dataTable['output_type'] = 'display_data';\n",
              "          await google.colab.output.renderOutput(dataTable, element);\n",
              "          const docLink = document.createElement('div');\n",
              "          docLink.innerHTML = docLinkHtml;\n",
              "          element.appendChild(docLink);\n",
              "        }\n",
              "      </script>\n",
              "    </div>\n",
              "  </div>\n",
              "  "
            ],
            "application/vnd.google.colaboratory.module+javascript": "\n      import \"https://ssl.gstatic.com/colaboratory/data_table/99dac6621f6ae8c4/data_table.js\";\n\n      window.createDataTable({\n        data: [[{\n            'v': 293956,\n            'f': \"293956\",\n        },\n{\n            'v': 9.58,\n            'f': \"9.58\",\n        },\n{\n            'v': 33.91,\n            'f': \"33.91\",\n        },\n{\n            'v': 4,\n            'f': \"4\",\n        }],\n [{\n            'v': 83413,\n            'f': \"83413\",\n        },\n{\n            'v': 13.88,\n            'f': \"13.88\",\n        },\n{\n            'v': 33.863,\n            'f': \"33.863\",\n        },\n{\n            'v': 4,\n            'f': \"4\",\n        }],\n [{\n            'v': 451139,\n            'f': \"451139\",\n        },\n{\n            'v': 11.87,\n            'f': \"11.87\",\n        },\n{\n            'v': 34.32,\n            'f': \"34.32\",\n        },\n{\n            'v': 4,\n            'f': \"4\",\n        }],\n [{\n            'v': 851494,\n            'f': \"851494\",\n        },\n{\n            'v': 5.967,\n            'f': \"5.967\",\n        },\n{\n            'v': 34.2225,\n            'f': \"34.2225\",\n        },\n{\n            'v': 3,\n            'f': \"3\",\n        }],\n [{\n            'v': 31958,\n            'f': \"31958\",\n        },\n{\n            'v': 17.42,\n            'f': \"17.42\",\n        },\n{\n            'v': 33.84,\n            'f': \"33.84\",\n        },\n{\n            'v': 5,\n            'f': \"5\",\n        }],\n [{\n            'v': 754173,\n            'f': \"754173\",\n        },\n{\n            'v': 15.27,\n            'f': \"15.27\",\n        },\n{\n            'v': 32.98,\n            'f': \"32.98\",\n        },\n{\n            'v': 4,\n            'f': \"4\",\n        }],\n [{\n            'v': 628698,\n            'f': \"628698\",\n        },\n{\n            'v': 19.22,\n            'f': \"19.22\",\n        },\n{\n            'v': 33.418,\n            'f': \"33.418\",\n        },\n{\n            'v': 5,\n            'f': \"5\",\n        }]],\n        columns: [[\"number\", \"index\"], [\"number\", \"T_degC\"], [\"number\", \"Salnty\"], [\"number\", \"temp_cat\"]],\n        columnOptions: [{\"width\": \"1px\", \"className\": \"index_column\"}],\n        rowsPerPage: 25,\n        helpUrl: \"https://colab.research.google.com/notebooks/data_table.ipynb\",\n        suppressOutputScrolling: true,\n        minimumWidth: undefined,\n      });\n    "
          },
          "metadata": {},
          "execution_count": 22
        }
      ]
    },
    {
      "cell_type": "markdown",
      "source": [
        "##Explore and Visualize the Data to Gain Insights\n",
        "We will plot the correlation matrix to visually assess correlations."
      ],
      "metadata": {
        "id": "2eivszboqBAD"
      }
    },
    {
      "cell_type": "code",
      "source": [
        "from pandas.plotting import scatter_matrix\n",
        "# import matplotlib.pyplot as plt\n",
        "\n",
        "# attributes = ['T_degC', 'Salnty']\n",
        "scatter_matrix(temp_salinity_df, figsize=(12, 12))"
      ],
      "metadata": {
        "colab": {
          "base_uri": "https://localhost:8080/",
          "height": 1000
        },
        "id": "z_u90cLdr_sI",
        "outputId": "faf43b77-a19e-4b97-e355-33c827ab2c7c"
      },
      "execution_count": 23,
      "outputs": [
        {
          "output_type": "execute_result",
          "data": {
            "text/plain": [
              "array([[<Axes: xlabel='T_degC', ylabel='T_degC'>,\n",
              "        <Axes: xlabel='Salnty', ylabel='T_degC'>],\n",
              "       [<Axes: xlabel='T_degC', ylabel='Salnty'>,\n",
              "        <Axes: xlabel='Salnty', ylabel='Salnty'>]], dtype=object)"
            ]
          },
          "metadata": {},
          "execution_count": 23
        },
        {
          "output_type": "stream",
          "name": "stdout",
          "text": [
            "Error in callback <function _draw_all_if_interactive at 0x7f08afca7b80> (for post_execute):\n"
          ]
        },
        {
          "output_type": "error",
          "ename": "KeyboardInterrupt",
          "evalue": "ignored",
          "traceback": [
            "\u001b[0;31m---------------------------------------------------------------------------\u001b[0m",
            "\u001b[0;31mKeyboardInterrupt\u001b[0m                         Traceback (most recent call last)",
            "\u001b[0;32m/usr/local/lib/python3.9/dist-packages/matplotlib/pyplot.py\u001b[0m in \u001b[0;36m_draw_all_if_interactive\u001b[0;34m()\u001b[0m\n\u001b[1;32m    118\u001b[0m \u001b[0;32mdef\u001b[0m \u001b[0m_draw_all_if_interactive\u001b[0m\u001b[0;34m(\u001b[0m\u001b[0;34m)\u001b[0m\u001b[0;34m:\u001b[0m\u001b[0;34m\u001b[0m\u001b[0;34m\u001b[0m\u001b[0m\n\u001b[1;32m    119\u001b[0m     \u001b[0;32mif\u001b[0m \u001b[0mmatplotlib\u001b[0m\u001b[0;34m.\u001b[0m\u001b[0mis_interactive\u001b[0m\u001b[0;34m(\u001b[0m\u001b[0;34m)\u001b[0m\u001b[0;34m:\u001b[0m\u001b[0;34m\u001b[0m\u001b[0;34m\u001b[0m\u001b[0m\n\u001b[0;32m--> 120\u001b[0;31m         \u001b[0mdraw_all\u001b[0m\u001b[0;34m(\u001b[0m\u001b[0;34m)\u001b[0m\u001b[0;34m\u001b[0m\u001b[0;34m\u001b[0m\u001b[0m\n\u001b[0m\u001b[1;32m    121\u001b[0m \u001b[0;34m\u001b[0m\u001b[0m\n\u001b[1;32m    122\u001b[0m \u001b[0;34m\u001b[0m\u001b[0m\n",
            "\u001b[0;32m/usr/local/lib/python3.9/dist-packages/matplotlib/_pylab_helpers.py\u001b[0m in \u001b[0;36mdraw_all\u001b[0;34m(cls, force)\u001b[0m\n\u001b[1;32m    130\u001b[0m         \u001b[0;32mfor\u001b[0m \u001b[0mmanager\u001b[0m \u001b[0;32min\u001b[0m \u001b[0mcls\u001b[0m\u001b[0;34m.\u001b[0m\u001b[0mget_all_fig_managers\u001b[0m\u001b[0;34m(\u001b[0m\u001b[0;34m)\u001b[0m\u001b[0;34m:\u001b[0m\u001b[0;34m\u001b[0m\u001b[0;34m\u001b[0m\u001b[0m\n\u001b[1;32m    131\u001b[0m             \u001b[0;32mif\u001b[0m \u001b[0mforce\u001b[0m \u001b[0;32mor\u001b[0m \u001b[0mmanager\u001b[0m\u001b[0;34m.\u001b[0m\u001b[0mcanvas\u001b[0m\u001b[0;34m.\u001b[0m\u001b[0mfigure\u001b[0m\u001b[0;34m.\u001b[0m\u001b[0mstale\u001b[0m\u001b[0;34m:\u001b[0m\u001b[0;34m\u001b[0m\u001b[0;34m\u001b[0m\u001b[0m\n\u001b[0;32m--> 132\u001b[0;31m                 \u001b[0mmanager\u001b[0m\u001b[0;34m.\u001b[0m\u001b[0mcanvas\u001b[0m\u001b[0;34m.\u001b[0m\u001b[0mdraw_idle\u001b[0m\u001b[0;34m(\u001b[0m\u001b[0;34m)\u001b[0m\u001b[0;34m\u001b[0m\u001b[0;34m\u001b[0m\u001b[0m\n\u001b[0m\u001b[1;32m    133\u001b[0m \u001b[0;34m\u001b[0m\u001b[0m\n\u001b[1;32m    134\u001b[0m \u001b[0;34m\u001b[0m\u001b[0m\n",
            "\u001b[0;32m/usr/local/lib/python3.9/dist-packages/matplotlib/backend_bases.py\u001b[0m in \u001b[0;36mdraw_idle\u001b[0;34m(self, *args, **kwargs)\u001b[0m\n\u001b[1;32m   2080\u001b[0m         \u001b[0;32mif\u001b[0m \u001b[0;32mnot\u001b[0m \u001b[0mself\u001b[0m\u001b[0;34m.\u001b[0m\u001b[0m_is_idle_drawing\u001b[0m\u001b[0;34m:\u001b[0m\u001b[0;34m\u001b[0m\u001b[0;34m\u001b[0m\u001b[0m\n\u001b[1;32m   2081\u001b[0m             \u001b[0;32mwith\u001b[0m \u001b[0mself\u001b[0m\u001b[0;34m.\u001b[0m\u001b[0m_idle_draw_cntx\u001b[0m\u001b[0;34m(\u001b[0m\u001b[0;34m)\u001b[0m\u001b[0;34m:\u001b[0m\u001b[0;34m\u001b[0m\u001b[0;34m\u001b[0m\u001b[0m\n\u001b[0;32m-> 2082\u001b[0;31m                 \u001b[0mself\u001b[0m\u001b[0;34m.\u001b[0m\u001b[0mdraw\u001b[0m\u001b[0;34m(\u001b[0m\u001b[0;34m*\u001b[0m\u001b[0margs\u001b[0m\u001b[0;34m,\u001b[0m \u001b[0;34m**\u001b[0m\u001b[0mkwargs\u001b[0m\u001b[0;34m)\u001b[0m\u001b[0;34m\u001b[0m\u001b[0;34m\u001b[0m\u001b[0m\n\u001b[0m\u001b[1;32m   2083\u001b[0m \u001b[0;34m\u001b[0m\u001b[0m\n\u001b[1;32m   2084\u001b[0m     \u001b[0;34m@\u001b[0m\u001b[0mproperty\u001b[0m\u001b[0;34m\u001b[0m\u001b[0;34m\u001b[0m\u001b[0m\n",
            "\u001b[0;32m/usr/local/lib/python3.9/dist-packages/matplotlib/backends/backend_agg.py\u001b[0m in \u001b[0;36mdraw\u001b[0;34m(self)\u001b[0m\n\u001b[1;32m    398\u001b[0m              (self.toolbar._wait_cursor_for_draw_cm() if self.toolbar\n\u001b[1;32m    399\u001b[0m               else nullcontext()):\n\u001b[0;32m--> 400\u001b[0;31m             \u001b[0mself\u001b[0m\u001b[0;34m.\u001b[0m\u001b[0mfigure\u001b[0m\u001b[0;34m.\u001b[0m\u001b[0mdraw\u001b[0m\u001b[0;34m(\u001b[0m\u001b[0mself\u001b[0m\u001b[0;34m.\u001b[0m\u001b[0mrenderer\u001b[0m\u001b[0;34m)\u001b[0m\u001b[0;34m\u001b[0m\u001b[0;34m\u001b[0m\u001b[0m\n\u001b[0m\u001b[1;32m    401\u001b[0m             \u001b[0;31m# A GUI class may be need to update a window using this draw, so\u001b[0m\u001b[0;34m\u001b[0m\u001b[0;34m\u001b[0m\u001b[0m\n\u001b[1;32m    402\u001b[0m             \u001b[0;31m# don't forget to call the superclass.\u001b[0m\u001b[0;34m\u001b[0m\u001b[0;34m\u001b[0m\u001b[0m\n",
            "\u001b[0;32m/usr/local/lib/python3.9/dist-packages/matplotlib/artist.py\u001b[0m in \u001b[0;36mdraw_wrapper\u001b[0;34m(artist, renderer, *args, **kwargs)\u001b[0m\n\u001b[1;32m     93\u001b[0m     \u001b[0;34m@\u001b[0m\u001b[0mwraps\u001b[0m\u001b[0;34m(\u001b[0m\u001b[0mdraw\u001b[0m\u001b[0;34m)\u001b[0m\u001b[0;34m\u001b[0m\u001b[0;34m\u001b[0m\u001b[0m\n\u001b[1;32m     94\u001b[0m     \u001b[0;32mdef\u001b[0m \u001b[0mdraw_wrapper\u001b[0m\u001b[0;34m(\u001b[0m\u001b[0martist\u001b[0m\u001b[0;34m,\u001b[0m \u001b[0mrenderer\u001b[0m\u001b[0;34m,\u001b[0m \u001b[0;34m*\u001b[0m\u001b[0margs\u001b[0m\u001b[0;34m,\u001b[0m \u001b[0;34m**\u001b[0m\u001b[0mkwargs\u001b[0m\u001b[0;34m)\u001b[0m\u001b[0;34m:\u001b[0m\u001b[0;34m\u001b[0m\u001b[0;34m\u001b[0m\u001b[0m\n\u001b[0;32m---> 95\u001b[0;31m         \u001b[0mresult\u001b[0m \u001b[0;34m=\u001b[0m \u001b[0mdraw\u001b[0m\u001b[0;34m(\u001b[0m\u001b[0martist\u001b[0m\u001b[0;34m,\u001b[0m \u001b[0mrenderer\u001b[0m\u001b[0;34m,\u001b[0m \u001b[0;34m*\u001b[0m\u001b[0margs\u001b[0m\u001b[0;34m,\u001b[0m \u001b[0;34m**\u001b[0m\u001b[0mkwargs\u001b[0m\u001b[0;34m)\u001b[0m\u001b[0;34m\u001b[0m\u001b[0;34m\u001b[0m\u001b[0m\n\u001b[0m\u001b[1;32m     96\u001b[0m         \u001b[0;32mif\u001b[0m \u001b[0mrenderer\u001b[0m\u001b[0;34m.\u001b[0m\u001b[0m_rasterizing\u001b[0m\u001b[0;34m:\u001b[0m\u001b[0;34m\u001b[0m\u001b[0;34m\u001b[0m\u001b[0m\n\u001b[1;32m     97\u001b[0m             \u001b[0mrenderer\u001b[0m\u001b[0;34m.\u001b[0m\u001b[0mstop_rasterizing\u001b[0m\u001b[0;34m(\u001b[0m\u001b[0;34m)\u001b[0m\u001b[0;34m\u001b[0m\u001b[0;34m\u001b[0m\u001b[0m\n",
            "\u001b[0;32m/usr/local/lib/python3.9/dist-packages/matplotlib/artist.py\u001b[0m in \u001b[0;36mdraw_wrapper\u001b[0;34m(artist, renderer)\u001b[0m\n\u001b[1;32m     70\u001b[0m                 \u001b[0mrenderer\u001b[0m\u001b[0;34m.\u001b[0m\u001b[0mstart_filter\u001b[0m\u001b[0;34m(\u001b[0m\u001b[0;34m)\u001b[0m\u001b[0;34m\u001b[0m\u001b[0;34m\u001b[0m\u001b[0m\n\u001b[1;32m     71\u001b[0m \u001b[0;34m\u001b[0m\u001b[0m\n\u001b[0;32m---> 72\u001b[0;31m             \u001b[0;32mreturn\u001b[0m \u001b[0mdraw\u001b[0m\u001b[0;34m(\u001b[0m\u001b[0martist\u001b[0m\u001b[0;34m,\u001b[0m \u001b[0mrenderer\u001b[0m\u001b[0;34m)\u001b[0m\u001b[0;34m\u001b[0m\u001b[0;34m\u001b[0m\u001b[0m\n\u001b[0m\u001b[1;32m     73\u001b[0m         \u001b[0;32mfinally\u001b[0m\u001b[0;34m:\u001b[0m\u001b[0;34m\u001b[0m\u001b[0;34m\u001b[0m\u001b[0m\n\u001b[1;32m     74\u001b[0m             \u001b[0;32mif\u001b[0m \u001b[0martist\u001b[0m\u001b[0;34m.\u001b[0m\u001b[0mget_agg_filter\u001b[0m\u001b[0;34m(\u001b[0m\u001b[0;34m)\u001b[0m \u001b[0;32mis\u001b[0m \u001b[0;32mnot\u001b[0m \u001b[0;32mNone\u001b[0m\u001b[0;34m:\u001b[0m\u001b[0;34m\u001b[0m\u001b[0;34m\u001b[0m\u001b[0m\n",
            "\u001b[0;32m/usr/local/lib/python3.9/dist-packages/matplotlib/figure.py\u001b[0m in \u001b[0;36mdraw\u001b[0;34m(self, renderer)\u001b[0m\n\u001b[1;32m   3138\u001b[0m \u001b[0;34m\u001b[0m\u001b[0m\n\u001b[1;32m   3139\u001b[0m             \u001b[0mself\u001b[0m\u001b[0;34m.\u001b[0m\u001b[0mpatch\u001b[0m\u001b[0;34m.\u001b[0m\u001b[0mdraw\u001b[0m\u001b[0;34m(\u001b[0m\u001b[0mrenderer\u001b[0m\u001b[0;34m)\u001b[0m\u001b[0;34m\u001b[0m\u001b[0;34m\u001b[0m\u001b[0m\n\u001b[0;32m-> 3140\u001b[0;31m             mimage._draw_list_compositing_images(\n\u001b[0m\u001b[1;32m   3141\u001b[0m                 renderer, self, artists, self.suppressComposite)\n\u001b[1;32m   3142\u001b[0m \u001b[0;34m\u001b[0m\u001b[0m\n",
            "\u001b[0;32m/usr/local/lib/python3.9/dist-packages/matplotlib/image.py\u001b[0m in \u001b[0;36m_draw_list_compositing_images\u001b[0;34m(renderer, parent, artists, suppress_composite)\u001b[0m\n\u001b[1;32m    129\u001b[0m     \u001b[0;32mif\u001b[0m \u001b[0mnot_composite\u001b[0m \u001b[0;32mor\u001b[0m \u001b[0;32mnot\u001b[0m \u001b[0mhas_images\u001b[0m\u001b[0;34m:\u001b[0m\u001b[0;34m\u001b[0m\u001b[0;34m\u001b[0m\u001b[0m\n\u001b[1;32m    130\u001b[0m         \u001b[0;32mfor\u001b[0m \u001b[0ma\u001b[0m \u001b[0;32min\u001b[0m \u001b[0martists\u001b[0m\u001b[0;34m:\u001b[0m\u001b[0;34m\u001b[0m\u001b[0;34m\u001b[0m\u001b[0m\n\u001b[0;32m--> 131\u001b[0;31m             \u001b[0ma\u001b[0m\u001b[0;34m.\u001b[0m\u001b[0mdraw\u001b[0m\u001b[0;34m(\u001b[0m\u001b[0mrenderer\u001b[0m\u001b[0;34m)\u001b[0m\u001b[0;34m\u001b[0m\u001b[0;34m\u001b[0m\u001b[0m\n\u001b[0m\u001b[1;32m    132\u001b[0m     \u001b[0;32melse\u001b[0m\u001b[0;34m:\u001b[0m\u001b[0;34m\u001b[0m\u001b[0;34m\u001b[0m\u001b[0m\n\u001b[1;32m    133\u001b[0m         \u001b[0;31m# Composite any adjacent images together\u001b[0m\u001b[0;34m\u001b[0m\u001b[0;34m\u001b[0m\u001b[0m\n",
            "\u001b[0;32m/usr/local/lib/python3.9/dist-packages/matplotlib/artist.py\u001b[0m in \u001b[0;36mdraw_wrapper\u001b[0;34m(artist, renderer)\u001b[0m\n\u001b[1;32m     70\u001b[0m                 \u001b[0mrenderer\u001b[0m\u001b[0;34m.\u001b[0m\u001b[0mstart_filter\u001b[0m\u001b[0;34m(\u001b[0m\u001b[0;34m)\u001b[0m\u001b[0;34m\u001b[0m\u001b[0;34m\u001b[0m\u001b[0m\n\u001b[1;32m     71\u001b[0m \u001b[0;34m\u001b[0m\u001b[0m\n\u001b[0;32m---> 72\u001b[0;31m             \u001b[0;32mreturn\u001b[0m \u001b[0mdraw\u001b[0m\u001b[0;34m(\u001b[0m\u001b[0martist\u001b[0m\u001b[0;34m,\u001b[0m \u001b[0mrenderer\u001b[0m\u001b[0;34m)\u001b[0m\u001b[0;34m\u001b[0m\u001b[0;34m\u001b[0m\u001b[0m\n\u001b[0m\u001b[1;32m     73\u001b[0m         \u001b[0;32mfinally\u001b[0m\u001b[0;34m:\u001b[0m\u001b[0;34m\u001b[0m\u001b[0;34m\u001b[0m\u001b[0m\n\u001b[1;32m     74\u001b[0m             \u001b[0;32mif\u001b[0m \u001b[0martist\u001b[0m\u001b[0;34m.\u001b[0m\u001b[0mget_agg_filter\u001b[0m\u001b[0;34m(\u001b[0m\u001b[0;34m)\u001b[0m \u001b[0;32mis\u001b[0m \u001b[0;32mnot\u001b[0m \u001b[0;32mNone\u001b[0m\u001b[0;34m:\u001b[0m\u001b[0;34m\u001b[0m\u001b[0;34m\u001b[0m\u001b[0m\n",
            "\u001b[0;32m/usr/local/lib/python3.9/dist-packages/matplotlib/axes/_base.py\u001b[0m in \u001b[0;36mdraw\u001b[0;34m(self, renderer)\u001b[0m\n\u001b[1;32m   3062\u001b[0m             \u001b[0m_draw_rasterized\u001b[0m\u001b[0;34m(\u001b[0m\u001b[0mself\u001b[0m\u001b[0;34m.\u001b[0m\u001b[0mfigure\u001b[0m\u001b[0;34m,\u001b[0m \u001b[0martists_rasterized\u001b[0m\u001b[0;34m,\u001b[0m \u001b[0mrenderer\u001b[0m\u001b[0;34m)\u001b[0m\u001b[0;34m\u001b[0m\u001b[0;34m\u001b[0m\u001b[0m\n\u001b[1;32m   3063\u001b[0m \u001b[0;34m\u001b[0m\u001b[0m\n\u001b[0;32m-> 3064\u001b[0;31m         mimage._draw_list_compositing_images(\n\u001b[0m\u001b[1;32m   3065\u001b[0m             renderer, self, artists, self.figure.suppressComposite)\n\u001b[1;32m   3066\u001b[0m \u001b[0;34m\u001b[0m\u001b[0m\n",
            "\u001b[0;32m/usr/local/lib/python3.9/dist-packages/matplotlib/image.py\u001b[0m in \u001b[0;36m_draw_list_compositing_images\u001b[0;34m(renderer, parent, artists, suppress_composite)\u001b[0m\n\u001b[1;32m    129\u001b[0m     \u001b[0;32mif\u001b[0m \u001b[0mnot_composite\u001b[0m \u001b[0;32mor\u001b[0m \u001b[0;32mnot\u001b[0m \u001b[0mhas_images\u001b[0m\u001b[0;34m:\u001b[0m\u001b[0;34m\u001b[0m\u001b[0;34m\u001b[0m\u001b[0m\n\u001b[1;32m    130\u001b[0m         \u001b[0;32mfor\u001b[0m \u001b[0ma\u001b[0m \u001b[0;32min\u001b[0m \u001b[0martists\u001b[0m\u001b[0;34m:\u001b[0m\u001b[0;34m\u001b[0m\u001b[0;34m\u001b[0m\u001b[0m\n\u001b[0;32m--> 131\u001b[0;31m             \u001b[0ma\u001b[0m\u001b[0;34m.\u001b[0m\u001b[0mdraw\u001b[0m\u001b[0;34m(\u001b[0m\u001b[0mrenderer\u001b[0m\u001b[0;34m)\u001b[0m\u001b[0;34m\u001b[0m\u001b[0;34m\u001b[0m\u001b[0m\n\u001b[0m\u001b[1;32m    132\u001b[0m     \u001b[0;32melse\u001b[0m\u001b[0;34m:\u001b[0m\u001b[0;34m\u001b[0m\u001b[0;34m\u001b[0m\u001b[0m\n\u001b[1;32m    133\u001b[0m         \u001b[0;31m# Composite any adjacent images together\u001b[0m\u001b[0;34m\u001b[0m\u001b[0;34m\u001b[0m\u001b[0m\n",
            "\u001b[0;32m/usr/local/lib/python3.9/dist-packages/matplotlib/artist.py\u001b[0m in \u001b[0;36mdraw_wrapper\u001b[0;34m(artist, renderer)\u001b[0m\n\u001b[1;32m     70\u001b[0m                 \u001b[0mrenderer\u001b[0m\u001b[0;34m.\u001b[0m\u001b[0mstart_filter\u001b[0m\u001b[0;34m(\u001b[0m\u001b[0;34m)\u001b[0m\u001b[0;34m\u001b[0m\u001b[0;34m\u001b[0m\u001b[0m\n\u001b[1;32m     71\u001b[0m \u001b[0;34m\u001b[0m\u001b[0m\n\u001b[0;32m---> 72\u001b[0;31m             \u001b[0;32mreturn\u001b[0m \u001b[0mdraw\u001b[0m\u001b[0;34m(\u001b[0m\u001b[0martist\u001b[0m\u001b[0;34m,\u001b[0m \u001b[0mrenderer\u001b[0m\u001b[0;34m)\u001b[0m\u001b[0;34m\u001b[0m\u001b[0;34m\u001b[0m\u001b[0m\n\u001b[0m\u001b[1;32m     73\u001b[0m         \u001b[0;32mfinally\u001b[0m\u001b[0;34m:\u001b[0m\u001b[0;34m\u001b[0m\u001b[0;34m\u001b[0m\u001b[0m\n\u001b[1;32m     74\u001b[0m             \u001b[0;32mif\u001b[0m \u001b[0martist\u001b[0m\u001b[0;34m.\u001b[0m\u001b[0mget_agg_filter\u001b[0m\u001b[0;34m(\u001b[0m\u001b[0;34m)\u001b[0m \u001b[0;32mis\u001b[0m \u001b[0;32mnot\u001b[0m \u001b[0;32mNone\u001b[0m\u001b[0;34m:\u001b[0m\u001b[0;34m\u001b[0m\u001b[0;34m\u001b[0m\u001b[0m\n",
            "\u001b[0;32m/usr/local/lib/python3.9/dist-packages/matplotlib/collections.py\u001b[0m in \u001b[0;36mdraw\u001b[0;34m(self, renderer)\u001b[0m\n\u001b[1;32m    970\u001b[0m     \u001b[0;32mdef\u001b[0m \u001b[0mdraw\u001b[0m\u001b[0;34m(\u001b[0m\u001b[0mself\u001b[0m\u001b[0;34m,\u001b[0m \u001b[0mrenderer\u001b[0m\u001b[0;34m)\u001b[0m\u001b[0;34m:\u001b[0m\u001b[0;34m\u001b[0m\u001b[0;34m\u001b[0m\u001b[0m\n\u001b[1;32m    971\u001b[0m         \u001b[0mself\u001b[0m\u001b[0;34m.\u001b[0m\u001b[0mset_sizes\u001b[0m\u001b[0;34m(\u001b[0m\u001b[0mself\u001b[0m\u001b[0;34m.\u001b[0m\u001b[0m_sizes\u001b[0m\u001b[0;34m,\u001b[0m \u001b[0mself\u001b[0m\u001b[0;34m.\u001b[0m\u001b[0mfigure\u001b[0m\u001b[0;34m.\u001b[0m\u001b[0mdpi\u001b[0m\u001b[0;34m)\u001b[0m\u001b[0;34m\u001b[0m\u001b[0;34m\u001b[0m\u001b[0m\n\u001b[0;32m--> 972\u001b[0;31m         \u001b[0msuper\u001b[0m\u001b[0;34m(\u001b[0m\u001b[0;34m)\u001b[0m\u001b[0;34m.\u001b[0m\u001b[0mdraw\u001b[0m\u001b[0;34m(\u001b[0m\u001b[0mrenderer\u001b[0m\u001b[0;34m)\u001b[0m\u001b[0;34m\u001b[0m\u001b[0;34m\u001b[0m\u001b[0m\n\u001b[0m\u001b[1;32m    973\u001b[0m \u001b[0;34m\u001b[0m\u001b[0m\n\u001b[1;32m    974\u001b[0m \u001b[0;34m\u001b[0m\u001b[0m\n",
            "\u001b[0;32m/usr/local/lib/python3.9/dist-packages/matplotlib/artist.py\u001b[0m in \u001b[0;36mdraw_wrapper\u001b[0;34m(artist, renderer)\u001b[0m\n\u001b[1;32m     70\u001b[0m                 \u001b[0mrenderer\u001b[0m\u001b[0;34m.\u001b[0m\u001b[0mstart_filter\u001b[0m\u001b[0;34m(\u001b[0m\u001b[0;34m)\u001b[0m\u001b[0;34m\u001b[0m\u001b[0;34m\u001b[0m\u001b[0m\n\u001b[1;32m     71\u001b[0m \u001b[0;34m\u001b[0m\u001b[0m\n\u001b[0;32m---> 72\u001b[0;31m             \u001b[0;32mreturn\u001b[0m \u001b[0mdraw\u001b[0m\u001b[0;34m(\u001b[0m\u001b[0martist\u001b[0m\u001b[0;34m,\u001b[0m \u001b[0mrenderer\u001b[0m\u001b[0;34m)\u001b[0m\u001b[0;34m\u001b[0m\u001b[0;34m\u001b[0m\u001b[0m\n\u001b[0m\u001b[1;32m     73\u001b[0m         \u001b[0;32mfinally\u001b[0m\u001b[0;34m:\u001b[0m\u001b[0;34m\u001b[0m\u001b[0;34m\u001b[0m\u001b[0m\n\u001b[1;32m     74\u001b[0m             \u001b[0;32mif\u001b[0m \u001b[0martist\u001b[0m\u001b[0;34m.\u001b[0m\u001b[0mget_agg_filter\u001b[0m\u001b[0;34m(\u001b[0m\u001b[0;34m)\u001b[0m \u001b[0;32mis\u001b[0m \u001b[0;32mnot\u001b[0m \u001b[0;32mNone\u001b[0m\u001b[0;34m:\u001b[0m\u001b[0;34m\u001b[0m\u001b[0;34m\u001b[0m\u001b[0m\n",
            "\u001b[0;32m/usr/local/lib/python3.9/dist-packages/matplotlib/collections.py\u001b[0m in \u001b[0;36mdraw\u001b[0;34m(self, renderer)\u001b[0m\n\u001b[1;32m    407\u001b[0m                 mpath.Path(offsets), offset_trf, tuple(facecolors[0]))\n\u001b[1;32m    408\u001b[0m         \u001b[0;32melse\u001b[0m\u001b[0;34m:\u001b[0m\u001b[0;34m\u001b[0m\u001b[0;34m\u001b[0m\u001b[0m\n\u001b[0;32m--> 409\u001b[0;31m             renderer.draw_path_collection(\n\u001b[0m\u001b[1;32m    410\u001b[0m                 \u001b[0mgc\u001b[0m\u001b[0;34m,\u001b[0m \u001b[0mtransform\u001b[0m\u001b[0;34m.\u001b[0m\u001b[0mfrozen\u001b[0m\u001b[0;34m(\u001b[0m\u001b[0;34m)\u001b[0m\u001b[0;34m,\u001b[0m \u001b[0mpaths\u001b[0m\u001b[0;34m,\u001b[0m\u001b[0;34m\u001b[0m\u001b[0;34m\u001b[0m\u001b[0m\n\u001b[1;32m    411\u001b[0m                 \u001b[0mself\u001b[0m\u001b[0;34m.\u001b[0m\u001b[0mget_transforms\u001b[0m\u001b[0;34m(\u001b[0m\u001b[0;34m)\u001b[0m\u001b[0;34m,\u001b[0m \u001b[0moffsets\u001b[0m\u001b[0;34m,\u001b[0m \u001b[0moffset_trf\u001b[0m\u001b[0;34m,\u001b[0m\u001b[0;34m\u001b[0m\u001b[0;34m\u001b[0m\u001b[0m\n",
            "\u001b[0;32m/usr/local/lib/python3.9/dist-packages/matplotlib/path.py\u001b[0m in \u001b[0;36mvertices\u001b[0;34m(self)\u001b[0m\n\u001b[1;32m    209\u001b[0m         )\n\u001b[1;32m    210\u001b[0m \u001b[0;34m\u001b[0m\u001b[0m\n\u001b[0;32m--> 211\u001b[0;31m     \u001b[0;34m@\u001b[0m\u001b[0mproperty\u001b[0m\u001b[0;34m\u001b[0m\u001b[0;34m\u001b[0m\u001b[0m\n\u001b[0m\u001b[1;32m    212\u001b[0m     \u001b[0;32mdef\u001b[0m \u001b[0mvertices\u001b[0m\u001b[0;34m(\u001b[0m\u001b[0mself\u001b[0m\u001b[0;34m)\u001b[0m\u001b[0;34m:\u001b[0m\u001b[0;34m\u001b[0m\u001b[0;34m\u001b[0m\u001b[0m\n\u001b[1;32m    213\u001b[0m         \"\"\"\n",
            "\u001b[0;31mKeyboardInterrupt\u001b[0m: "
          ]
        },
        {
          "output_type": "display_data",
          "data": {
            "text/plain": [
              "<Figure size 864x864 with 4 Axes>"
            ],
            "image/png": "[encoded data removed]"
          },
          "metadata": {
            "needs_background": "light"
          }
        }
      ]
    },
    {
      "cell_type": "code",
      "source": [
        "temp_salinity_df.plot(kind=\"scatter\", x=\"Salnty\", y=\"T_degC\", grid=True, c=temp_salinity_df['temp_cat'], cmap='jet', alpha=0.5, colorbar=True,\n",
        " legend=True, sharex=False, figsize=(12,12))\n",
        "\n",
        "plt.show()\n"
      ],
      "metadata": {
        "colab": {
          "base_uri": "https://localhost:8080/",
          "height": 718
        },
        "id": "S9iZyrHULDGE",
        "outputId": "3dfeb601-7f4a-406d-ce51-b3b86b281417"
      },
      "execution_count": 24,
      "outputs": [
        {
          "output_type": "display_data",
          "data": {
            "text/plain": [
              "<Figure size 864x864 with 2 Axes>"
            ],
            "image/png": "[encoded data removed]"
          },
          "metadata": {
            "needs_background": "light"
          }
        }
      ]
    },
    {
      "cell_type": "markdown",
      "source": [
        "We can observe, that there is an inverse relationship betwean salinity and temperature. It tends to converge around 34 lvl of salinity as temperatures grow, although at higher temperatures it is much more spreaded. We can also notice something happening at ~33.8 salinity level, here values cluster and disperse around the whole spectrum of temperature. Also, we notice a line of datapoints clustering around 10 °C, for different levels of salinity."
      ],
      "metadata": {
        "id": "gDr3JeJ4s9qX"
      }
    },
    {
      "cell_type": "markdown",
      "source": [
        "### Correlations\n",
        "\n",
        "Since the dataset does not have  many features, it is quite easy to calculate the correlations of these. \n",
        "The correlation coefficient ranges from –1 to 1. A negative correlation indicates that as one variable increases, the other decreases, and vice-versa. 0 correlation indicates that there is no linear correlation. Obviously the correlation between temperature and itself is 1.\n",
        "With salinity, it is negative and has a value of -0.45, it is not particularly strong.\n"
      ],
      "metadata": {
        "id": "OERkW3jzqA5A"
      }
    },
    {
      "cell_type": "code",
      "source": [
        "corr_matrix = temp_salinity_df.corr()\n",
        "corr_matrix[\"T_degC\"].sort_values(ascending=False)"
      ],
      "metadata": {
        "id": "jLRDbB7B1gVQ",
        "colab": {
          "base_uri": "https://localhost:8080/"
        },
        "outputId": "04462134-aabd-4479-a09b-464723f9bc7d"
      },
      "execution_count": 25,
      "outputs": [
        {
          "output_type": "execute_result",
          "data": {
            "text/plain": [
              "T_degC    1.000000\n",
              "Salnty   -0.490369\n",
              "Name: T_degC, dtype: float64"
            ]
          },
          "metadata": {},
          "execution_count": 25
        }
      ]
    },
    {
      "cell_type": "markdown",
      "source": [
        "##Prepare the Data for Machine Learning Algorithms"
      ],
      "metadata": {
        "id": "6S-L1RdgDDD0"
      }
    },
    {
      "cell_type": "markdown",
      "source": [
        "In the first step, we separate our trainings dataset with our labeled dataset."
      ],
      "metadata": {
        "id": "xuzM0jyGFjEs"
      }
    },
    {
      "cell_type": "code",
      "source": [
        "temp_salinity_df = train_set.drop(\"T_degC\", axis=1)\n",
        "temp_salinity_df_label = train_set[[\"T_degC\"]].copy()"
      ],
      "metadata": {
        "id": "C0EgPFu0D7Au"
      },
      "execution_count": 26,
      "outputs": []
    },
    {
      "cell_type": "markdown",
      "source": [
        "##Feature Scaling and Transformation"
      ],
      "metadata": {
        "id": "ptt3_Jt6jP0Q"
      }
    },
    {
      "cell_type": "markdown",
      "source": [
        "Min-max scaling and standardization are two  techniques used in ML to preprocess features before training a model. This will optimize the process. \n",
        "\n",
        "Min-max scaling is a method of normalizing the values of a numerical feature to a range between 0 and 1. This is done by subtracting the minimum value of the feature and then dividing by max-min.\n",
        "\n",
        "Standardization transforms the values, such that they have a mean of 0 and a standard dev. of 1, (like in the standard normal distribution). This is done by subtracting the mean of the feature and then dividing by the standard deviation.\n",
        "standardization = (x - mean(x)) / sdev(x)\n",
        "\n",
        "A heavy tail in a distribution refers to a distribution where the tail (e.g., the values on the high end of the distribution) is longer and has more extreme values than a normal distribution. In other words, a heavy-tailed distribution has more outliers.\n",
        "When using min-max scaling or standardization on a heavy-tailed distribution, we might get problems, because these techniques assume that the data is normally distributed or has a similar spread of values. However, in a heavy-tailed distribution, the presence of outliers or extreme values can greatly affect the scaling or standardization process. This can result in features that are improperly scaled or standardized, which can worsen the performance of ML.\n",
        "\n",
        "Example: we have a dataset with a numerical feature that has a heavy-tailed distribution, with a few extreme values at the high end of the distribution.\n",
        "In the case of min-max scaling, the presence of extreme values may cause the resulting scaled values to be biased towards 0 or 1.\n",
        "In the case of standardization, the presence of extreme values may cause the standardized values to be skewed towards the mean."
      ],
      "metadata": {
        "id": "TspxADyqwjHX"
      }
    },
    {
      "cell_type": "markdown",
      "source": [
        "###Transformation pipelines\n",
        "\n",
        "\n",
        "We will use only one pipelines, as the dataset is much simpler, having sensibly less columns. We used the label pipeline to apply the logarithm to the temperature, because it had a long tail. For the temperature we just used StandardScaler\n",
        "\n",
        "The pipeline  *default_num_pipeline*, standardizes numeric columns using StandardScaler.\n",
        "\n",
        "\n",
        "\n",
        "label_pipeline takes the logarithm of of the target variable and does not apply any further transformations.\n",
        "\n",
        "\n",
        "What arguments are in favor, and what arguments might be against?\n",
        "\n",
        "Answer:\n",
        "\n",
        "Arguments in favor of using these pipelines are that they can efficiently preprocess a dataset.\n",
        "\n",
        "Arguments against using these pipelines might be that they can introduce information loss.\n",
        "\n",
        "After a  brief reaserch, I found another approach is to use automated machine learning (AutoML) tools such as TPOT or Auto-sklearn. These can automatically search over a large space of potential preprocessing pipelines and machine learning models to find the best combination for a given dataset and problem. These tools can be especially useful for those with limited experience.\n",
        "\n",
        "\n",
        " "
      ],
      "metadata": {
        "id": "H2Dtf-l_PX3i"
      }
    },
    {
      "cell_type": "code",
      "source": [
        "from sklearn.compose import ColumnTransformer\n",
        "from sklearn.pipeline import make_pipeline\n",
        "from sklearn.preprocessing import FunctionTransformer\n",
        "from sklearn.preprocessing import StandardScaler\n",
        "import numpy as np\n",
        "# from sklearn.preprocessing import OneHotEncoder\n",
        "\n",
        "'''\n",
        "def time(X):\n",
        " a =  pd.to_datetime(\"now\") - X[X.columns[0]]\n",
        " a = a.dt.total_seconds()\n",
        " return a.to_frame()\n",
        "\n",
        "date_pipeline = make_pipeline(\n",
        " FunctionTransformer(time),\n",
        " StandardScaler())\n",
        " '''\n",
        "\n",
        "# cluster_simil = ClusterSimilarity(n_clusters=15, gamma=100., random_state=42)\n",
        "\n",
        "default_num_pipeline = make_pipeline(StandardScaler())\n",
        "\n",
        "'''log_pipeline = make_pipeline(\n",
        " FunctionTransformer(np.log),\n",
        " StandardScaler())'''\n",
        "\n",
        "label_pipeline = make_pipeline(\n",
        " FunctionTransformer(np.log)) \n",
        "\n",
        "# cat_pipeline = make_pipeline(OneHotEncoder(handle_unknown=\"ignore\"))\n",
        "\n",
        "preprocessing = ColumnTransformer([\n",
        "# (\"log\", log_pipeline, [\"\"]),\n",
        "# (\"geo\", cluster_simil, [\"lat\", \"long\"]),\n",
        "# (\"cat\", cat_pipeline, [\"\", \"\"]),\n",
        "# (\"date\", date_pipeline, [\"\"]),\n",
        " (\"normal\", default_num_pipeline, [\"Salnty\"])\n",
        " ])\n",
        "\n",
        "preprocessing_label = ColumnTransformer([\n",
        " (\"log\", label_pipeline, [\"T_degC\"])\n",
        " ])"
      ],
      "metadata": {
        "id": "_bad6uecbinL"
      },
      "execution_count": 27,
      "outputs": []
    },
    {
      "cell_type": "markdown",
      "source": [
        "How many features do we have for predicition?\n",
        "\n",
        "Answer:\n",
        "\n",
        "1"
      ],
      "metadata": {
        "id": "E7JSLLA6Brnm"
      }
    },
    {
      "cell_type": "code",
      "source": [
        "data_prepared = preprocessing.fit_transform(temp_salinity_df)\n",
        "data_prepared.shape"
      ],
      "metadata": {
        "id": "t3K8Lj0_jBGP",
        "colab": {
          "base_uri": "https://localhost:8080/"
        },
        "outputId": "ac171f4a-96f0-4eae-cba8-eab54734437c"
      },
      "execution_count": 28,
      "outputs": [
        {
          "output_type": "execute_result",
          "data": {
            "text/plain": [
              "(691890, 1)"
            ]
          },
          "metadata": {},
          "execution_count": 28
        }
      ]
    },
    {
      "cell_type": "markdown",
      "source": [
        "##Select and Train a Model\n",
        "\n",
        "###Linear Model"
      ],
      "metadata": {
        "id": "pI2GEpNO4lVo"
      }
    },
    {
      "cell_type": "markdown",
      "source": [
        "The following code determines a linear regression model"
      ],
      "metadata": {
        "id": "6v8HqloIQ1CK"
      }
    },
    {
      "cell_type": "code",
      "source": [
        "from sklearn.linear_model import LinearRegression\n",
        "\n",
        "temp_salinity_df_label_transformed = preprocessing_label.fit_transform(temp_salinity_df_label)\n",
        "\n",
        "lin_reg = make_pipeline(preprocessing, LinearRegression())\n",
        "lin_reg.fit(temp_salinity_df, temp_salinity_df_label_transformed)\n",
        "\n",
        "data_predictions = lin_reg.predict(temp_salinity_df)"
      ],
      "metadata": {
        "id": "HBhwDtu0KAZs"
      },
      "execution_count": 29,
      "outputs": []
    },
    {
      "cell_type": "code",
      "source": [
        "from sklearn.metrics import median_absolute_error\n",
        "from sklearn.metrics import mean_squared_error\n",
        "\n",
        "median_hat = np.median(np.exp(data_predictions))\n",
        "median = np.median(np.exp(temp_salinity_df_label_transformed))\n",
        "\n",
        "median_absolute_error = median_absolute_error(np.exp(temp_salinity_df_label_transformed), np.exp(data_predictions))\n",
        "root_mean_squared_error = mean_squared_error(np.exp(temp_salinity_df_label_transformed), np.exp(data_predictions), squared=False)\n",
        "\n",
        "\n",
        "\n",
        "print(\"median:\",median)\n",
        "print(\"predicted median:\", median_hat)\n",
        "print(\"mean absl error:\", median_absolute_error)\n",
        "print(\"root mean square error:\", root_mean_squared_error)"
      ],
      "metadata": {
        "id": "MSBRjOje8_h8",
        "colab": {
          "base_uri": "https://localhost:8080/"
        },
        "outputId": "1688e954-49df-4001-da63-ca53fc8a5596"
      },
      "execution_count": 30,
      "outputs": [
        {
          "output_type": "stream",
          "name": "stdout",
          "text": [
            "median: 10.060000000000002\n",
            "predicted median: 9.815765033982473\n",
            "mean absl error: 1.686720590126856\n",
            "root mean square error: 3.7501952738997484\n"
          ]
        }
      ]
    },
    {
      "cell_type": "markdown",
      "source": [
        "\n",
        "\n",
        "The model performs quite well, as the predicted median values are good. The median value is 10.06, and the predicted median value by the model is 9.8 . This indicates that the model tends to slightly underestimate the water temperature, as the predicted median is lower than the actual median. Moreover, The RMSE of 1.68 is a good measure for the model quality. The median absolute error is 1.68, which means that on average, the model's predictions are off by approximately 1.68 °C  "
      ],
      "metadata": {
        "id": "QyHp6vubHIGr"
      }
    },
    {
      "cell_type": "markdown",
      "source": [
        "###Random Forest Regressor (Took 11 min to run!)"
      ],
      "metadata": {
        "id": "oaHv3Jm4_mjq"
      }
    },
    {
      "cell_type": "markdown",
      "source": [
        "We will now also compute a Radom Forrest model, automatically determining a cross validation with n = 10 on the training dataset. What happens during the cross validation?\n",
        "\n",
        "Answer:\n",
        "\n",
        "Scikit-Learn has a feature called \"k_-fold cross-validation\" . It randomly splits the training set into 10 nonoverlapping subsets called folds,\n",
        "then it trains and evaluates the decision tree model 10 times, picking a different fold for evaluation every time and using the other 9 folds for training.\n",
        "\n",
        "Why have I adjusted the R squared error with a separate function?\n",
        "\n",
        "Answer:\n",
        "\n",
        "\n",
        "If a model that uses logarithmic transformation, the dependent variable has been transformed to a logarithmic scale. This means that the traditional R squared, which is based on the untransformed dependent variable, would not be an appropriate.\n",
        "\n",
        "The adjusted R squared takes the logarithmic scale and the number of independent variables into account, while penalizing for the number of independent variables. This makes it a useful for a model that uses logarithmic scale. By using the negative square root of the mean of the squared errors on the exponential scale as a scoring function, we are penalizing the model for large errors on the original scale.\n",
        "\n",
        "\n",
        " What is the function *np.ravel* doing?\n",
        "\n",
        " Answer:\n",
        "\n",
        " The np.ravel() function from NumPy is used to flatten an array / matrix into a one-dimensional array. Now it can be used by models that require a one-dimensional target variable, such as scikit-learn's RandomForestRegressor.\n",
        "\n"
      ],
      "metadata": {
        "id": "-5uVLymyLDyh"
      }
    },
    {
      "cell_type": "code",
      "source": [
        "from sklearn.model_selection import cross_val_score\n",
        "from sklearn.ensemble import RandomForestRegressor\n",
        "from sklearn.metrics import make_scorer\n",
        "\n",
        "temp_salinity_df_transformed = preprocessing_label.fit_transform(temp_salinity_df_label)\n",
        "\n",
        "forest_reg = make_pipeline(preprocessing, RandomForestRegressor(random_state=42))\n",
        "forest_reg.fit(temp_salinity_df, np.ravel(temp_salinity_df_label_transformed))\n",
        "\n",
        "def adjusted_rsquare(y_true, y_pred, **kwargs):\n",
        "  return -np.sqrt(np.mean((np.exp(y_true)-np.exp(y_pred))**2))\n",
        "\n",
        "neg_exp_root_mean_squared_error = make_scorer(adjusted_rsquare, greater_is_better=False)\n",
        "\n",
        "forest_rmses = -cross_val_score(forest_reg, temp_salinity_df, np.ravel(temp_salinity_df_label_transformed),\n",
        " scoring=neg_exp_root_mean_squared_error, cv=10)\n",
        "\n"
      ],
      "metadata": {
        "id": "n3CE6FgPMkvD"
      },
      "execution_count": 31,
      "outputs": []
    },
    {
      "cell_type": "markdown",
      "source": [
        "The following code outputs the RMSE for all 10 folds, compare it to the linear regression.\n",
        "\n",
        "Answer:\n",
        "\n",
        "The mean RMSE across all folds is approximately -3.19, which is  lower than the RMSE obtained from the linear regression model (3.75). This suggests that the random forest model is performing better than the linear regression model on this dataset. Additionally, the standard deviation of the RMSEs is small (0.018), which indicates that the performance of the model is consistent across different folds of the cross-validation process."
      ],
      "metadata": {
        "id": "lviW5tuKiC2d"
      }
    },
    {
      "cell_type": "code",
      "source": [
        "pd.Series(forest_rmses).describe()"
      ],
      "metadata": {
        "id": "5glFSw4ZEdx0",
        "colab": {
          "base_uri": "https://localhost:8080/"
        },
        "outputId": "1ee83750-dacc-48c2-a59c-0845356678e9"
      },
      "execution_count": 32,
      "outputs": [
        {
          "output_type": "execute_result",
          "data": {
            "text/plain": [
              "count    10.000000\n",
              "mean     -3.194724\n",
              "std       0.018515\n",
              "min      -3.223381\n",
              "25%      -3.206821\n",
              "50%      -3.198180\n",
              "75%      -3.179733\n",
              "max      -3.168421\n",
              "dtype: float64"
            ]
          },
          "metadata": {},
          "execution_count": 32
        }
      ]
    },
    {
      "cell_type": "markdown",
      "source": [
        "##Fine-Tune Your Model\n",
        "\n",
        "###Grid Search & Randomized Search\n",
        "Try to explain what the Grid Search and Random Search methods do.\n",
        "\n",
        "Answer:\n",
        "\n",
        "Grid Search and Random Search are methods for hyperparameter tuning.\n",
        "Grid Search involves creating a grid of all possible hyperparameter values and then searching through that grid to find the optimal combination.\n",
        "\n",
        "This method is easy to implement, but it can be  computationally expensive when dealing with a large number of hyperparameters or a large range of hyperparameter values.\n",
        "\n",
        "Random Search, involves randomly sampling hyperparameters from a specified distribution and evaluating the model performance at each set of hyperparameters.\n",
        "\n",
        " What are the advantages of each method. \n",
        " \n",
        " Answer:\n",
        "\n",
        " Grid Search:\n",
        "\n",
        "- Exhaustive search: Explores all the possible combinations of hyperparameters in the search space.\n",
        "\n",
        "- Easy to implement: Relatively simple to implement and does not require any complex coding or optimization algorithms.\n",
        "\n",
        "- Clarity: produces clear and interpretable results.\n",
        "\n",
        "Random Search:\n",
        "\n",
        "- More efficient: More efficient than Grid Search, especially when the search space is large.\n",
        "\n",
        "- Better results: May bring better results than Grid Search because it can explore more diverse hyperparameter combinations.\n",
        "\n",
        "- It is possible that a combination of hyperparameters that are not adjacent in the search space can perform better than a combination that is adjacent.\n",
        "\n",
        "- Flexibility: Random Search is more flexible.\n",
        " \n",
        " For which parameters would this make sense in our example?\n",
        "\n",
        " Answer:\n",
        "\n",
        "For this model, given that it is an univariate linear regression we can use GridSearch as we don't have many variables, and hence a small hyperparameter space. So, we can tune hyperparameters such as the regularization strength for the linear regression model or \"n_estimators\", \"max_features\", \"max_depth\" for the random forest model."
      ],
      "metadata": {
        "id": "QmGGpNLT2P61"
      }
    },
    {
      "cell_type": "markdown",
      "source": [
        "###Evaluate Your System on the Test Set\n",
        "\n",
        "I had trouble getting this to work. Maybe we can fix it in class.\n",
        "\n",
        "Try to evaluate the final model with the test set. Compute the Median and 95% confidence interval of the root mean squared error and the median of the absolute error.\n",
        "\n",
        "Remember to invert your results with the inverse functions you applied to the label variable as a preprocessing step. (The logarithm is the inverse function of the exponential function)."
      ],
      "metadata": {
        "id": "jPdkpYVazu62"
      }
    },
    {
      "cell_type": "code",
      "source": [
        "test_label_transformed = preprocessing_label.fit_transform(test_set[[\"T_degC\"]].copy())\n",
        "\n",
        "final_predictions = forest_reg.predict(test_set.drop(\"T_degC\", axis=1))\n",
        "\n",
        "m_a_e = median_absolute_error(np.exp(test_label_transformed), np.exp(final_predictions))\n",
        "r_m_s_e = mean_squared_error(np.exp(test_label_transformed), np.exp(final_predictions), squared=False)\n",
        "\n",
        "\n",
        "median_hat = np.median(np.exp(test_label_transformed))\n",
        "median = np.median(np.exp(final_predictions))\n",
        "\n",
        "print(\"Root mean squared error:\", r_m_s_e)\n",
        "print(\"Mean absolut error:\", m_a_e)\n",
        "print(\"predicted median:\", median_hat)\n",
        "print(\"median:\", median)"
      ],
      "metadata": {
        "id": "luhX9g4Y0Wja",
        "colab": {
          "base_uri": "https://localhost:8080/",
          "height": 239
        },
        "outputId": "df1f4368-bb17-4058-e10b-240c36d4213f"
      },
      "execution_count": 38,
      "outputs": [
        {
          "output_type": "error",
          "ename": "TypeError",
          "evalue": "ignored",
          "traceback": [
            "\u001b[0;31m---------------------------------------------------------------------------\u001b[0m",
            "\u001b[0;31mTypeError\u001b[0m                                 Traceback (most recent call last)",
            "\u001b[0;32m<ipython-input-38-b890f5e81a13>\u001b[0m in \u001b[0;36m<module>\u001b[0;34m\u001b[0m\n\u001b[1;32m      3\u001b[0m \u001b[0mfinal_predictions\u001b[0m \u001b[0;34m=\u001b[0m \u001b[0mforest_reg\u001b[0m\u001b[0;34m.\u001b[0m\u001b[0mpredict\u001b[0m\u001b[0;34m(\u001b[0m\u001b[0mtest_set\u001b[0m\u001b[0;34m.\u001b[0m\u001b[0mdrop\u001b[0m\u001b[0;34m(\u001b[0m\u001b[0;34m\"T_degC\"\u001b[0m\u001b[0;34m,\u001b[0m \u001b[0maxis\u001b[0m\u001b[0;34m=\u001b[0m\u001b[0;36m1\u001b[0m\u001b[0;34m)\u001b[0m\u001b[0;34m)\u001b[0m\u001b[0;34m\u001b[0m\u001b[0;34m\u001b[0m\u001b[0m\n\u001b[1;32m      4\u001b[0m \u001b[0;34m\u001b[0m\u001b[0m\n\u001b[0;32m----> 5\u001b[0;31m \u001b[0mm_a_e\u001b[0m \u001b[0;34m=\u001b[0m \u001b[0mmedian_absolute_error\u001b[0m\u001b[0;34m(\u001b[0m\u001b[0mnp\u001b[0m\u001b[0;34m.\u001b[0m\u001b[0mexp\u001b[0m\u001b[0;34m(\u001b[0m\u001b[0mtest_label_transformed\u001b[0m\u001b[0;34m)\u001b[0m\u001b[0;34m,\u001b[0m \u001b[0mnp\u001b[0m\u001b[0;34m.\u001b[0m\u001b[0mexp\u001b[0m\u001b[0;34m(\u001b[0m\u001b[0mfinal_predictions\u001b[0m\u001b[0;34m)\u001b[0m\u001b[0;34m)\u001b[0m\u001b[0;34m\u001b[0m\u001b[0;34m\u001b[0m\u001b[0m\n\u001b[0m\u001b[1;32m      6\u001b[0m \u001b[0mr_m_s_e\u001b[0m \u001b[0;34m=\u001b[0m \u001b[0mmean_squared_error\u001b[0m\u001b[0;34m(\u001b[0m\u001b[0mnp\u001b[0m\u001b[0;34m.\u001b[0m\u001b[0mexp\u001b[0m\u001b[0;34m(\u001b[0m\u001b[0mtest_label_transformed\u001b[0m\u001b[0;34m)\u001b[0m\u001b[0;34m,\u001b[0m \u001b[0mnp\u001b[0m\u001b[0;34m.\u001b[0m\u001b[0mexp\u001b[0m\u001b[0;34m(\u001b[0m\u001b[0mfinal_predictions\u001b[0m\u001b[0;34m)\u001b[0m\u001b[0;34m,\u001b[0m \u001b[0msquared\u001b[0m\u001b[0;34m=\u001b[0m\u001b[0;32mFalse\u001b[0m\u001b[0;34m)\u001b[0m\u001b[0;34m\u001b[0m\u001b[0;34m\u001b[0m\u001b[0m\n\u001b[1;32m      7\u001b[0m \u001b[0;34m\u001b[0m\u001b[0m\n",
            "\u001b[0;31mTypeError\u001b[0m: 'numpy.float64' object is not callable"
          ]
        }
      ]
    },
    {
      "cell_type": "markdown",
      "source": [
        "##Launch, Monitor, and Maintain Your System\n",
        "\n",
        "What package and code can we use to save and reload our model?\n",
        "\n",
        "Why is it possible that we need a monitoring code?\n",
        "\n",
        "Monitoring is necessary, to verify performance on updated data or ir we need to train it again.\n",
        "\n",
        "Try to save the weights of our model so that we can reload it at any time, without having to run the training again."
      ],
      "metadata": {
        "id": "qt9Soak_tL0G"
      }
    },
    {
      "cell_type": "code",
      "source": [
        "from joblib import dump, load\n",
        "\n",
        "# Save the model\n",
        "dump(forest_reg, 'regression_model_salinity_temperature')\n",
        "\n"
      ],
      "metadata": {
        "id": "QZZW-z0OMhLH",
        "colab": {
          "base_uri": "https://localhost:8080/"
        },
        "outputId": "ce9e8eae-e626-42c5-a3c8-05fbbcac2061"
      },
      "execution_count": 39,
      "outputs": [
        {
          "output_type": "execute_result",
          "data": {
            "text/plain": [
              "['regression_model_salinity_temperature']"
            ]
          },
          "metadata": {},
          "execution_count": 39
        }
      ]
    },
    {
      "cell_type": "markdown",
      "source": [
        "### Conclusion\n",
        "\n",
        "We can say that there is a correlation between salinity and temperature. The random forest models seems to be better, although it took 11 minutes to run it, which surely can be optimized with more advanced knowledge. I am not confident about the values obtained, as there might have been errors with the transformations & scaling."
      ],
      "metadata": {
        "id": "eSSOw0pKK-az"
      }
    },
    {
      "cell_type": "markdown",
      "source": [
        "##Ideas for the Learning Portfolio\n",
        "1) Adding a further model: In a few weeks we will learn neural networks, try to add this model!\n",
        "\n",
        "2) Find a challenge on Kaggle for a regression dataset and use Chapter 2 and this colab to try to solve it. "
      ],
      "metadata": {
        "id": "MSDETcPogKmO"
      }
    }
  ]
}