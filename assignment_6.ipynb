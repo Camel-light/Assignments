{
  "nbformat": 4,
  "nbformat_minor": 0,
  "metadata": {
    "colab": {
      "provenance": [],
      "gpuType": "T4",
      "include_colab_link": true
    },
    "kernelspec": {
      "name": "python3",
      "display_name": "Python 3"
    },
    "language_info": {
      "name": "python"
    },
    "gpuClass": "standard",
    "accelerator": "GPU"
  },
  "cells": [
    {
      "cell_type": "markdown",
      "metadata": {
        "id": "view-in-github",
        "colab_type": "text"
      },
      "source": [
        "<a href=\"https://colab.research.google.com/github/Camel-light/Assignments/blob/main/assignment_6.ipynb\" target=\"_parent\"><img src=\"https://colab.research.google.com/assets/colab-badge.svg\" alt=\"Open In Colab\"/></a>"
      ]
    },
    {
      "cell_type": "markdown",
      "source": [
        "The following assignment consists of a theoretical part (learning portfolio) and a practical part (assignment). The goal is to build a classification model that predicts from which subject area a certain abstract originates. The plan would be that next week we will discuss your learnings from the theory part, that means you are relatively free to fill your Learning Portfolio on this new topic and in two weeks we will discuss your solutions of the Classification Model.\n",
        "\n",
        "#Theory part (filling your Learning Portfolio, May 10)\n",
        "\n",
        "In preparation for the practical part, I ask you to familiarize yourself with the following resources in the next week:\n",
        "\n",
        "1) Please watch the following video:\n",
        "\n",
        "https://course.fast.ai/Lessons/lesson4.html\n",
        "\n",
        "You are also welcome to watch the accompanying Kaggle notebook if you like the video.\n",
        "\n",
        "2) In addition to the video, I recommend you to read the first chapters of the course\n",
        "\n",
        "https://huggingface.co/learn/nlp-course/chapter1/1\n",
        "\n",
        "\n",
        "Try to understand principle processes and log them in your learning portfolio! A few suggestions: What is a pre-trained NLP model? How do I load them? What is tokenization? What does fine-tuning mean? What types of NLP Models are there? What possibilities do I have with the Transformers package? etc...\n",
        "\n",
        "#Practical part (Assignment, May 17)\n",
        "\n",
        "1) Preprocessing: The data which I provide as zip in Olat must be processed first, that means we need a table which has the following form:\n",
        "\n",
        "Keywords | Title | Abstract | Research Field\n",
        "\n",
        "The research field is determined by the name of the file.\n",
        "\n",
        "2) We need a training dataset and a test dataset. My suggestion would be that for each research field we use the first 5700 lines for the training dataset and the last 300 lines for the test dataset. Please stick to this because then we can compare our models better!\n",
        "\n",
        "3) Please use a pre-trained model from huggingface to build a classification model that tries to predict the correct research field from the 26. Please calculate the accuracy and the overall accuracy for all research fields. If you solve this task in a group, you can also try different pre-trained models. In addition to the abstracts, you can also see if the model improves if you include keywords and titles.\n",
        "\n",
        "Some links, which can help you:\n",
        "\n",
        "https://huggingface.co/docs/transformers/training\n",
        "\n",
        "https://huggingface.co/docs/transformers/tasks/sequence_classification\n",
        "\n",
        "One last request: Please always use PyTorch and not TensorFlow!"
      ],
      "metadata": {
        "id": "Rv37EvemaCce"
      }
    },
    {
      "cell_type": "markdown",
      "source": [
        "**Cleaning the data**\n",
        "\n",
        "I cleaned the data first with the following python script. I had a problem with file \"*MATH_1991-2000.csv*\" on line 1061, because the *Title* filed had semicolons which caused problems. So, I encolosed the content in quoteation marks. Further, I had troubles splitting the data into 5700 / 300 for each field. First I confused and splitted each file into that ratio, but each file has only 2001 rows, then I still had troubles, so I just splitted by 95% / 5%, for train - & test - set, respectively.\n",
        "Also, It looks like not all files contain a total of 6000 rows, for example the file \"*HEAL_2001_2010.csv*\" has 595 rows as opposed to 2001 like all other. I decided to fill the file with the 595th row up to 2001. "
      ],
      "metadata": {
        "id": "OiCse_AEBsIq"
      }
    },
    {
      "cell_type": "markdown",
      "source": [
        "Addition: Accuracy measures whether the research field with the highest probability value matches the target. With 26 research fields, it would also be interesting to know if the correct target is at least among the three highest probability values.\n",
        "\n",
        "$\\begin{pmatrix} A\\\\ B \\\\ C \\\\D \\\\E \\end{pmatrix} = \\begin{pmatrix} 0.1\\\\ 0.95 \\\\ 0.5 \\\\0.2 \\\\0.3 \\end{pmatrix} → \\text{Choice}_1 = B, \\text{Choice}_3 = B,C,E$"
      ],
      "metadata": {
        "id": "Up3aCw__4f4d"
      }
    },
    {
      "cell_type": "code",
      "source": [
        "# Run offline locally\n",
        "\n",
        "'''\n",
        "import os\n",
        "import pandas as pd\n",
        "\n",
        "folder_path = './data'  # Change this to the path of your folder\n",
        "output_folder = './data_cleaned'  # Change this to the path of your output folder\n",
        "counter = 0\n",
        "\n",
        "for filename in os.listdir(folder_path):\n",
        "    if filename.endswith('.csv'):\n",
        "        file_path = os.path.join(folder_path, filename)\n",
        "        df = pd.read_csv(file_path)\n",
        "        research_field = filename.split('_')[0]\n",
        "        df['Research Field'] = research_field\n",
        "        filtered_df = df[['Index Keywords', 'Title', 'Abstract', 'Research Field']]\n",
        "        output_file_path = os.path.join(output_folder, filename)\n",
        "        filtered_df.to_csv(output_file_path, index=False)\n",
        "        counter += 1\n",
        "        print(counter)\n",
        "'''\n",
        "\n"
      ],
      "metadata": {
        "id": "YivelvfbCLK3",
        "colab": {
          "base_uri": "https://localhost:8080/",
          "height": 106
        },
        "outputId": "8d803b76-d257-455f-9eec-9e7916cb8182"
      },
      "execution_count": 104,
      "outputs": [
        {
          "output_type": "execute_result",
          "data": {
            "text/plain": [
              "\"\\nimport os\\nimport pandas as pd\\n\\nfolder_path = './data'  # Change this to the path of your folder\\noutput_folder = './data_cleaned'  # Change this to the path of your output folder\\ncounter = 0\\n\\nfor filename in os.listdir(folder_path):\\n    if filename.endswith('.csv'):\\n        file_path = os.path.join(folder_path, filename)\\n        df = pd.read_csv(file_path)\\n        research_field = filename.split('_')[0]\\n        df['Research Field'] = research_field\\n        filtered_df = df[['Index Keywords', 'Title', 'Abstract', 'Research Field']]\\n        output_file_path = os.path.join(output_folder, filename)\\n        filtered_df.to_csv(output_file_path, index=False)\\n        counter += 1\\n        print(counter)\\n\""
            ],
            "application/vnd.google.colaboratory.intrinsic+json": {
              "type": "string"
            }
          },
          "metadata": {},
          "execution_count": 104
        }
      ]
    },
    {
      "cell_type": "markdown",
      "source": [
        "Now the files have this structure"
      ],
      "metadata": {
        "id": "5S32NmqTs8EO"
      }
    },
    {
      "cell_type": "markdown",
      "source": [
        "![image.png](data:image/png;base64,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)"
      ],
      "metadata": {
        "id": "_Ustt5PhsuWT"
      }
    },
    {
      "cell_type": "code",
      "execution_count": 105,
      "metadata": {
        "id": "rUi9az-cZ9zq",
        "colab": {
          "base_uri": "https://localhost:8080/"
        },
        "outputId": "ebd21ccc-8502-4211-fd5e-fda50fe3c76c"
      },
      "outputs": [
        {
          "output_type": "stream",
          "name": "stdout",
          "text": [
            "Drive already mounted at /content/drive; to attempt to forcibly remount, call drive.mount(\"/content/drive\", force_remount=True).\n"
          ]
        }
      ],
      "source": [
        "# Mount Google Drive\n",
        "from google.colab import drive\n",
        "drive.mount('/content/drive')"
      ]
    },
    {
      "cell_type": "code",
      "source": [
        "# Get all the fields unique occurrences (set)\n",
        "import os\n",
        "\n",
        "def get_fields(directory):\n",
        "    fields = set()\n",
        "    for filename in os.listdir(directory):\n",
        "        if filename.endswith('.csv'):\n",
        "            field = filename.split('_')[0]\n",
        "            fields.add(field)\n",
        "    return list(fields)\n",
        "\n",
        "\n",
        "directory = '/content/drive/MyDrive/Colab_Notebooks/Lab6/data_cleaned'\n",
        "fields = get_fields(directory)\n",
        "print(fields)"
      ],
      "metadata": {
        "id": "YpmuT7uUirrv",
        "colab": {
          "base_uri": "https://localhost:8080/"
        },
        "outputId": "8d8a646d-35c6-413c-bfce-aa9f9d50fef3"
      },
      "execution_count": 106,
      "outputs": [
        {
          "output_type": "stream",
          "name": "stdout",
          "text": [
            "['NEUR', 'DENT', 'DECI', 'IMMU', 'MEDI', 'PHYS', 'ENVI', 'HEAL', 'ARTS', 'EART', 'MATE', 'VETE', 'ECON', 'ENER', 'SOCI', 'BUSI', 'COMP', 'BIOC', 'ENGI', 'PSYC', 'CHEM', 'MATH', 'AGRI', 'NURS', 'PHAR', 'CENG']\n"
          ]
        }
      ]
    },
    {
      "cell_type": "code",
      "source": [
        "# Get the data from each field, put first 95% rows into train_data and 5% into test_data\n",
        "\n",
        "import pandas as pd\n",
        "from sklearn.model_selection import train_test_split\n",
        "\n",
        "def get_data(directory):\n",
        "    train_dfs = []\n",
        "    test_dfs = []\n",
        "\n",
        "    for field in fields:\n",
        "        field_files = [filename for filename in os.listdir(directory) if filename.startswith(field + \"_\")]\n",
        "        field_train_dfs = []\n",
        "        field_test_dfs = []\n",
        "        \n",
        "        for filename in field_files:\n",
        "            filepath = os.path.join(directory, filename)\n",
        "            df = pd.read_csv(filepath)\n",
        "            train_data, test_data = train_test_split(df, test_size=0.05, random_state=42)\n",
        "            field_train_dfs.append(train_data)\n",
        "            field_test_dfs.append(test_data)\n",
        "        \n",
        "        field_train_data = pd.concat(field_train_dfs)\n",
        "        field_test_data = pd.concat(field_test_dfs)\n",
        "        train_dfs.append(field_train_data)\n",
        "        test_dfs.append(field_test_data)\n",
        "    \n",
        "    train_data = pd.concat(train_dfs)\n",
        "    test_data = pd.concat(test_dfs)\n",
        "\n",
        "  \n",
        "    return train_data, test_data\n",
        "\n",
        "train_data, test_data = get_data(directory)"
      ],
      "metadata": {
        "id": "3H8WCCVmoYcE"
      },
      "execution_count": 107,
      "outputs": []
    },
    {
      "cell_type": "code",
      "source": [
        "train_data.describe()"
      ],
      "metadata": {
        "id": "O8lIHlyHqqgL",
        "colab": {
          "base_uri": "https://localhost:8080/",
          "height": 175
        },
        "outputId": "1508a327-ffc0-4352-d522-1e4db3e4b829"
      },
      "execution_count": 109,
      "outputs": [
        {
          "output_type": "execute_result",
          "data": {
            "text/plain": [
              "       Index Keywords                       Title                 Abstract  \\\n",
              "count          105035                      146864                   146864   \n",
              "unique         104684                      146528                   138581   \n",
              "top          Animalia  Review of particle physics  [No abstract available]   \n",
              "freq               50                           7                     8252   \n",
              "\n",
              "       Research Field  \n",
              "count          146864  \n",
              "unique             26  \n",
              "top              NEUR  \n",
              "freq             5700  "
            ],
            "text/html": [
              "\n",
              "  <div id=\"df-47b4cc6c-c933-4a72-8a58-122a40b022ba\">\n",
              "    <div class=\"colab-df-container\">\n",
              "      <div>\n",
              "<style scoped>\n",
              "    .dataframe tbody tr th:only-of-type {\n",
              "        vertical-align: middle;\n",
              "    }\n",
              "\n",
              "    .dataframe tbody tr th {\n",
              "        vertical-align: top;\n",
              "    }\n",
              "\n",
              "    .dataframe thead th {\n",
              "        text-align: right;\n",
              "    }\n",
              "</style>\n",
              "<table border=\"1\" class=\"dataframe\">\n",
              "  <thead>\n",
              "    <tr style=\"text-align: right;\">\n",
              "      <th></th>\n",
              "      <th>Index Keywords</th>\n",
              "      <th>Title</th>\n",
              "      <th>Abstract</th>\n",
              "      <th>Research Field</th>\n",
              "    </tr>\n",
              "  </thead>\n",
              "  <tbody>\n",
              "    <tr>\n",
              "      <th>count</th>\n",
              "      <td>105035</td>\n",
              "      <td>146864</td>\n",
              "      <td>146864</td>\n",
              "      <td>146864</td>\n",
              "    </tr>\n",
              "    <tr>\n",
              "      <th>unique</th>\n",
              "      <td>104684</td>\n",
              "      <td>146528</td>\n",
              "      <td>138581</td>\n",
              "      <td>26</td>\n",
              "    </tr>\n",
              "    <tr>\n",
              "      <th>top</th>\n",
              "      <td>Animalia</td>\n",
              "      <td>Review of particle physics</td>\n",
              "      <td>[No abstract available]</td>\n",
              "      <td>NEUR</td>\n",
              "    </tr>\n",
              "    <tr>\n",
              "      <th>freq</th>\n",
              "      <td>50</td>\n",
              "      <td>7</td>\n",
              "      <td>8252</td>\n",
              "      <td>5700</td>\n",
              "    </tr>\n",
              "  </tbody>\n",
              "</table>\n",
              "</div>\n",
              "      <button class=\"colab-df-convert\" onclick=\"convertToInteractive('df-47b4cc6c-c933-4a72-8a58-122a40b022ba')\"\n",
              "              title=\"Convert this dataframe to an interactive table.\"\n",
              "              style=\"display:none;\">\n",
              "        \n",
              "  <svg xmlns=\"http://www.w3.org/2000/svg\" height=\"24px\"viewBox=\"0 0 24 24\"\n",
              "       width=\"24px\">\n",
              "    <path d=\"M0 0h24v24H0V0z\" fill=\"none\"/>\n",
              "    <path d=\"M18.56 5.44l.94 2.06.94-2.06 2.06-.94-2.06-.94-.94-2.06-.94 2.06-2.06.94zm-11 1L8.5 8.5l.94-2.06 2.06-.94-2.06-.94L8.5 2.5l-.94 2.06-2.06.94zm10 10l.94 2.06.94-2.06 2.06-.94-2.06-.94-.94-2.06-.94 2.06-2.06.94z\"/><path d=\"M17.41 7.96l-1.37-1.37c-.4-.4-.92-.59-1.43-.59-.52 0-1.04.2-1.43.59L10.3 9.45l-7.72 7.72c-.78.78-.78 2.05 0 2.83L4 21.41c.39.39.9.59 1.41.59.51 0 1.02-.2 1.41-.59l7.78-7.78 2.81-2.81c.8-.78.8-2.07 0-2.86zM5.41 20L4 18.59l7.72-7.72 1.47 1.35L5.41 20z\"/>\n",
              "  </svg>\n",
              "      </button>\n",
              "      \n",
              "  <style>\n",
              "    .colab-df-container {\n",
              "      display:flex;\n",
              "      flex-wrap:wrap;\n",
              "      gap: 12px;\n",
              "    }\n",
              "\n",
              "    .colab-df-convert {\n",
              "      background-color: #E8F0FE;\n",
              "      border: none;\n",
              "      border-radius: 50%;\n",
              "      cursor: pointer;\n",
              "      display: none;\n",
              "      fill: #1967D2;\n",
              "      height: 32px;\n",
              "      padding: 0 0 0 0;\n",
              "      width: 32px;\n",
              "    }\n",
              "\n",
              "    .colab-df-convert:hover {\n",
              "      background-color: #E2EBFA;\n",
              "      box-shadow: 0px 1px 2px rgba(60, 64, 67, 0.3), 0px 1px 3px 1px rgba(60, 64, 67, 0.15);\n",
              "      fill: #174EA6;\n",
              "    }\n",
              "\n",
              "    [theme=dark] .colab-df-convert {\n",
              "      background-color: #3B4455;\n",
              "      fill: #D2E3FC;\n",
              "    }\n",
              "\n",
              "    [theme=dark] .colab-df-convert:hover {\n",
              "      background-color: #434B5C;\n",
              "      box-shadow: 0px 1px 3px 1px rgba(0, 0, 0, 0.15);\n",
              "      filter: drop-shadow(0px 1px 2px rgba(0, 0, 0, 0.3));\n",
              "      fill: #FFFFFF;\n",
              "    }\n",
              "  </style>\n",
              "\n",
              "      <script>\n",
              "        const buttonEl =\n",
              "          document.querySelector('#df-47b4cc6c-c933-4a72-8a58-122a40b022ba button.colab-df-convert');\n",
              "        buttonEl.style.display =\n",
              "          google.colab.kernel.accessAllowed ? 'block' : 'none';\n",
              "\n",
              "        async function convertToInteractive(key) {\n",
              "          const element = document.querySelector('#df-47b4cc6c-c933-4a72-8a58-122a40b022ba');\n",
              "          const dataTable =\n",
              "            await google.colab.kernel.invokeFunction('convertToInteractive',\n",
              "                                                     [key], {});\n",
              "          if (!dataTable) return;\n",
              "\n",
              "          const docLinkHtml = 'Like what you see? Visit the ' +\n",
              "            '<a target=\"_blank\" href=https://colab.research.google.com/notebooks/data_table.ipynb>data table notebook</a>'\n",
              "            + ' to learn more about interactive tables.';\n",
              "          element.innerHTML = '';\n",
              "          dataTable['output_type'] = 'display_data';\n",
              "          await google.colab.output.renderOutput(dataTable, element);\n",
              "          const docLink = document.createElement('div');\n",
              "          docLink.innerHTML = docLinkHtml;\n",
              "          element.appendChild(docLink);\n",
              "        }\n",
              "      </script>\n",
              "    </div>\n",
              "  </div>\n",
              "  "
            ]
          },
          "metadata": {},
          "execution_count": 109
        }
      ]
    },
    {
      "cell_type": "code",
      "source": [
        "test_data.describe()"
      ],
      "metadata": {
        "colab": {
          "base_uri": "https://localhost:8080/",
          "height": 175
        },
        "id": "WEuvUxmKuTPc",
        "outputId": "c278b662-b9d4-41e8-da42-693e2b609d6a"
      },
      "execution_count": 110,
      "outputs": [
        {
          "output_type": "execute_result",
          "data": {
            "text/plain": [
              "       Index Keywords                               Title  \\\n",
              "count            5498                                7730   \n",
              "unique           5492                                7730   \n",
              "top           article  Human neuronal nicotinic receptors   \n",
              "freq                3                                   1   \n",
              "\n",
              "                       Abstract Research Field  \n",
              "count                      7730           7730  \n",
              "unique                     7275             26  \n",
              "top     [No abstract available]           NEUR  \n",
              "freq                        456            300  "
            ],
            "text/html": [
              "\n",
              "  <div id=\"df-28104813-5515-45b2-a57b-7b43fa3fb04e\">\n",
              "    <div class=\"colab-df-container\">\n",
              "      <div>\n",
              "<style scoped>\n",
              "    .dataframe tbody tr th:only-of-type {\n",
              "        vertical-align: middle;\n",
              "    }\n",
              "\n",
              "    .dataframe tbody tr th {\n",
              "        vertical-align: top;\n",
              "    }\n",
              "\n",
              "    .dataframe thead th {\n",
              "        text-align: right;\n",
              "    }\n",
              "</style>\n",
              "<table border=\"1\" class=\"dataframe\">\n",
              "  <thead>\n",
              "    <tr style=\"text-align: right;\">\n",
              "      <th></th>\n",
              "      <th>Index Keywords</th>\n",
              "      <th>Title</th>\n",
              "      <th>Abstract</th>\n",
              "      <th>Research Field</th>\n",
              "    </tr>\n",
              "  </thead>\n",
              "  <tbody>\n",
              "    <tr>\n",
              "      <th>count</th>\n",
              "      <td>5498</td>\n",
              "      <td>7730</td>\n",
              "      <td>7730</td>\n",
              "      <td>7730</td>\n",
              "    </tr>\n",
              "    <tr>\n",
              "      <th>unique</th>\n",
              "      <td>5492</td>\n",
              "      <td>7730</td>\n",
              "      <td>7275</td>\n",
              "      <td>26</td>\n",
              "    </tr>\n",
              "    <tr>\n",
              "      <th>top</th>\n",
              "      <td>article</td>\n",
              "      <td>Human neuronal nicotinic receptors</td>\n",
              "      <td>[No abstract available]</td>\n",
              "      <td>NEUR</td>\n",
              "    </tr>\n",
              "    <tr>\n",
              "      <th>freq</th>\n",
              "      <td>3</td>\n",
              "      <td>1</td>\n",
              "      <td>456</td>\n",
              "      <td>300</td>\n",
              "    </tr>\n",
              "  </tbody>\n",
              "</table>\n",
              "</div>\n",
              "      <button class=\"colab-df-convert\" onclick=\"convertToInteractive('df-28104813-5515-45b2-a57b-7b43fa3fb04e')\"\n",
              "              title=\"Convert this dataframe to an interactive table.\"\n",
              "              style=\"display:none;\">\n",
              "        \n",
              "  <svg xmlns=\"http://www.w3.org/2000/svg\" height=\"24px\"viewBox=\"0 0 24 24\"\n",
              "       width=\"24px\">\n",
              "    <path d=\"M0 0h24v24H0V0z\" fill=\"none\"/>\n",
              "    <path d=\"M18.56 5.44l.94 2.06.94-2.06 2.06-.94-2.06-.94-.94-2.06-.94 2.06-2.06.94zm-11 1L8.5 8.5l.94-2.06 2.06-.94-2.06-.94L8.5 2.5l-.94 2.06-2.06.94zm10 10l.94 2.06.94-2.06 2.06-.94-2.06-.94-.94-2.06-.94 2.06-2.06.94z\"/><path d=\"M17.41 7.96l-1.37-1.37c-.4-.4-.92-.59-1.43-.59-.52 0-1.04.2-1.43.59L10.3 9.45l-7.72 7.72c-.78.78-.78 2.05 0 2.83L4 21.41c.39.39.9.59 1.41.59.51 0 1.02-.2 1.41-.59l7.78-7.78 2.81-2.81c.8-.78.8-2.07 0-2.86zM5.41 20L4 18.59l7.72-7.72 1.47 1.35L5.41 20z\"/>\n",
              "  </svg>\n",
              "      </button>\n",
              "      \n",
              "  <style>\n",
              "    .colab-df-container {\n",
              "      display:flex;\n",
              "      flex-wrap:wrap;\n",
              "      gap: 12px;\n",
              "    }\n",
              "\n",
              "    .colab-df-convert {\n",
              "      background-color: #E8F0FE;\n",
              "      border: none;\n",
              "      border-radius: 50%;\n",
              "      cursor: pointer;\n",
              "      display: none;\n",
              "      fill: #1967D2;\n",
              "      height: 32px;\n",
              "      padding: 0 0 0 0;\n",
              "      width: 32px;\n",
              "    }\n",
              "\n",
              "    .colab-df-convert:hover {\n",
              "      background-color: #E2EBFA;\n",
              "      box-shadow: 0px 1px 2px rgba(60, 64, 67, 0.3), 0px 1px 3px 1px rgba(60, 64, 67, 0.15);\n",
              "      fill: #174EA6;\n",
              "    }\n",
              "\n",
              "    [theme=dark] .colab-df-convert {\n",
              "      background-color: #3B4455;\n",
              "      fill: #D2E3FC;\n",
              "    }\n",
              "\n",
              "    [theme=dark] .colab-df-convert:hover {\n",
              "      background-color: #434B5C;\n",
              "      box-shadow: 0px 1px 3px 1px rgba(0, 0, 0, 0.15);\n",
              "      filter: drop-shadow(0px 1px 2px rgba(0, 0, 0, 0.3));\n",
              "      fill: #FFFFFF;\n",
              "    }\n",
              "  </style>\n",
              "\n",
              "      <script>\n",
              "        const buttonEl =\n",
              "          document.querySelector('#df-28104813-5515-45b2-a57b-7b43fa3fb04e button.colab-df-convert');\n",
              "        buttonEl.style.display =\n",
              "          google.colab.kernel.accessAllowed ? 'block' : 'none';\n",
              "\n",
              "        async function convertToInteractive(key) {\n",
              "          const element = document.querySelector('#df-28104813-5515-45b2-a57b-7b43fa3fb04e');\n",
              "          const dataTable =\n",
              "            await google.colab.kernel.invokeFunction('convertToInteractive',\n",
              "                                                     [key], {});\n",
              "          if (!dataTable) return;\n",
              "\n",
              "          const docLinkHtml = 'Like what you see? Visit the ' +\n",
              "            '<a target=\"_blank\" href=https://colab.research.google.com/notebooks/data_table.ipynb>data table notebook</a>'\n",
              "            + ' to learn more about interactive tables.';\n",
              "          element.innerHTML = '';\n",
              "          dataTable['output_type'] = 'display_data';\n",
              "          await google.colab.output.renderOutput(dataTable, element);\n",
              "          const docLink = document.createElement('div');\n",
              "          docLink.innerHTML = docLinkHtml;\n",
              "          element.appendChild(docLink);\n",
              "        }\n",
              "      </script>\n",
              "    </div>\n",
              "  </div>\n",
              "  "
            ]
          },
          "metadata": {},
          "execution_count": 110
        }
      ]
    },
    {
      "cell_type": "code",
      "source": [
        "train_data.info()\n",
        "test_data.info()"
      ],
      "metadata": {
        "id": "nzNv1LQ8r5ar",
        "colab": {
          "base_uri": "https://localhost:8080/"
        },
        "outputId": "3d9876b8-530d-40e7-9f66-45b04942a0de"
      },
      "execution_count": 111,
      "outputs": [
        {
          "output_type": "stream",
          "name": "stdout",
          "text": [
            "<class 'pandas.core.frame.DataFrame'>\n",
            "Int64Index: 146864 entries, 916 to 1126\n",
            "Data columns (total 4 columns):\n",
            " #   Column          Non-Null Count   Dtype \n",
            "---  ------          --------------   ----- \n",
            " 0   Index Keywords  105035 non-null  object\n",
            " 1   Title           146864 non-null  object\n",
            " 2   Abstract        146864 non-null  object\n",
            " 3   Research Field  146864 non-null  object\n",
            "dtypes: object(4)\n",
            "memory usage: 5.6+ MB\n",
            "<class 'pandas.core.frame.DataFrame'>\n",
            "Int64Index: 7730 entries, 1860 to 1931\n",
            "Data columns (total 4 columns):\n",
            " #   Column          Non-Null Count  Dtype \n",
            "---  ------          --------------  ----- \n",
            " 0   Index Keywords  5498 non-null   object\n",
            " 1   Title           7730 non-null   object\n",
            " 2   Abstract        7730 non-null   object\n",
            " 3   Research Field  7730 non-null   object\n",
            "dtypes: object(4)\n",
            "memory usage: 302.0+ KB\n"
          ]
        }
      ]
    },
    {
      "cell_type": "code",
      "source": [
        "print(5700/6000)\n",
        "print(146864 /(146864 + 7730))\n",
        "\n",
        "# ~ 95% split"
      ],
      "metadata": {
        "id": "K1dDeHUnrVBM",
        "colab": {
          "base_uri": "https://localhost:8080/"
        },
        "outputId": "dd57aca1-94e5-4418-fe35-598c98cef457"
      },
      "execution_count": 112,
      "outputs": [
        {
          "output_type": "stream",
          "name": "stdout",
          "text": [
            "0.95\n",
            "0.9499980594330957\n"
          ]
        }
      ]
    },
    {
      "cell_type": "code",
      "source": [
        "# Many 'Index Keywords' fields are empty. Imputing with row above, only if it has the same research field, as they are about similar topics.\n",
        "\n",
        "def fill_missing_keywords(df):\n",
        "    prev_keywords = None\n",
        "    prev_field = None\n",
        "    filled_keywords = []\n",
        "    for index, row in df.iterrows():\n",
        "        keywords = row['Index Keywords']\n",
        "        field = row['Research Field']\n",
        "        if pd.isnull(keywords) and field == prev_field:\n",
        "            filled_keywords.append(prev_keywords)\n",
        "        else:\n",
        "            filled_keywords.append(keywords)\n",
        "            prev_keywords = keywords\n",
        "        prev_field = field\n",
        "    return filled_keywords\n",
        "\n",
        "train_data['Index Keywords'] = fill_missing_keywords(train_data)\n",
        "test_data['Index Keywords'] = fill_missing_keywords(test_data)"
      ],
      "metadata": {
        "id": "RyECuFCOxsQc"
      },
      "execution_count": 113,
      "outputs": []
    },
    {
      "cell_type": "code",
      "source": [
        "train_data.info()\n",
        "test_data.info()"
      ],
      "metadata": {
        "id": "O8mgDR71yBc9",
        "colab": {
          "base_uri": "https://localhost:8080/"
        },
        "outputId": "0ee79b1e-3b28-4218-c287-647e9b48db49"
      },
      "execution_count": 114,
      "outputs": [
        {
          "output_type": "stream",
          "name": "stdout",
          "text": [
            "<class 'pandas.core.frame.DataFrame'>\n",
            "Int64Index: 146864 entries, 916 to 1126\n",
            "Data columns (total 4 columns):\n",
            " #   Column          Non-Null Count   Dtype \n",
            "---  ------          --------------   ----- \n",
            " 0   Index Keywords  146823 non-null  object\n",
            " 1   Title           146864 non-null  object\n",
            " 2   Abstract        146864 non-null  object\n",
            " 3   Research Field  146864 non-null  object\n",
            "dtypes: object(4)\n",
            "memory usage: 5.6+ MB\n",
            "<class 'pandas.core.frame.DataFrame'>\n",
            "Int64Index: 7730 entries, 1860 to 1931\n",
            "Data columns (total 4 columns):\n",
            " #   Column          Non-Null Count  Dtype \n",
            "---  ------          --------------  ----- \n",
            " 0   Index Keywords  7702 non-null   object\n",
            " 1   Title           7730 non-null   object\n",
            " 2   Abstract        7730 non-null   object\n",
            " 3   Research Field  7730 non-null   object\n",
            "dtypes: object(4)\n",
            "memory usage: 302.0+ KB\n"
          ]
        }
      ]
    },
    {
      "cell_type": "markdown",
      "source": [
        "Now there are less null rows for Index Keywords (more non-null rows)"
      ],
      "metadata": {
        "id": "cSeTzyF9z4VQ"
      }
    },
    {
      "cell_type": "code",
      "source": [
        "    # Impute empty Abstract rows with Title + Index Keywords\n",
        "    train_data = train_data.reset_index(drop=True)\n",
        "    train_data.loc[train_data['Abstract'] == '[No abstract available]', 'Abstract'] = train_data['Title'] + ' ' + train_data['Index Keywords']\n",
        "    test_data = test_data.reset_index(drop=True)\n",
        "    test_data.loc[test_data['Abstract'] == '[No abstract available]', 'Abstract'] = test_data['Title'] + ' ' + test_data['Index Keywords']"
      ],
      "metadata": {
        "id": "BAd4f6y_9qro"
      },
      "execution_count": 117,
      "outputs": []
    },
    {
      "cell_type": "code",
      "source": [
        "print(train_data[train_data['Abstract'] == '[No abstract available]'])\n",
        "print(test_data[test_data['Abstract'] == '[No abstract available]'])\n"
      ],
      "metadata": {
        "id": "aRd8_dKiqIzg",
        "colab": {
          "base_uri": "https://localhost:8080/"
        },
        "outputId": "67c573b2-d5a0-46b9-ac34-e2f4e8207956"
      },
      "execution_count": 116,
      "outputs": [
        {
          "output_type": "stream",
          "name": "stdout",
          "text": [
            "Empty DataFrame\n",
            "Columns: [Index Keywords, Title, Abstract, Research Field]\n",
            "Index: []\n",
            "Empty DataFrame\n",
            "Columns: [Index Keywords, Title, Abstract, Research Field]\n",
            "Index: []\n"
          ]
        }
      ]
    },
    {
      "cell_type": "code",
      "source": [
        "import numpy as np\n",
        "import pandas as pd\n",
        "from sklearn.model_selection import train_test_split\n",
        "\n",
        "\n",
        "train_data = pd.DataFrame(train_data)\n",
        "test_data = pd.DataFrame(test_data)\n",
        "\n",
        "# Split into training and validation using stratified sampling\n",
        "train_data, validation_data = train_test_split(train_data, test_size=0.15, stratify=train_data['Research Field'], random_state=42)\n",
        "\n",
        "print(\"Length of training, validation and test set\")\n",
        "print((len(train_data), len(validation_data), len(test_data)))"
      ],
      "metadata": {
        "colab": {
          "base_uri": "https://localhost:8080/"
        },
        "id": "MpH_-OHDm3td",
        "outputId": "47874ab0-4d3b-4aae-b186-5c14225dbc91"
      },
      "execution_count": 118,
      "outputs": [
        {
          "output_type": "stream",
          "name": "stdout",
          "text": [
            "Length of training, validation and test set\n",
            "(124834, 22030, 7730)\n"
          ]
        }
      ]
    },
    {
      "cell_type": "code",
      "source": [
        "!pip install transformers==4.28.0\n",
        "!pip install accelerate\n",
        "!pip install datasets\n",
        "!pip install evaluate"
      ],
      "metadata": {
        "colab": {
          "base_uri": "https://localhost:8080/",
          "height": 1000
        },
        "id": "3O6PvDgNxNph",
        "outputId": "c21092f9-eb43-41a1-fe18-dba5fb5a1d8f"
      },
      "execution_count": 125,
      "outputs": [
        {
          "output_type": "stream",
          "name": "stdout",
          "text": [
            "Looking in indexes: https://pypi.org/simple, https://us-python.pkg.dev/colab-wheels/public/simple/\n",
            "Collecting transformers==4.28.0\n",
            "  Using cached transformers-4.28.0-py3-none-any.whl (7.0 MB)\n",
            "Requirement already satisfied: filelock in /usr/local/lib/python3.10/dist-packages (from transformers==4.28.0) (3.12.0)\n",
            "Requirement already satisfied: huggingface-hub<1.0,>=0.11.0 in /usr/local/lib/python3.10/dist-packages (from transformers==4.28.0) (0.14.1)\n",
            "Requirement already satisfied: numpy>=1.17 in /usr/local/lib/python3.10/dist-packages (from transformers==4.28.0) (1.22.4)\n",
            "Requirement already satisfied: packaging>=20.0 in /usr/local/lib/python3.10/dist-packages (from transformers==4.28.0) (23.1)\n",
            "Requirement already satisfied: pyyaml>=5.1 in /usr/local/lib/python3.10/dist-packages (from transformers==4.28.0) (6.0)\n",
            "Requirement already satisfied: regex!=2019.12.17 in /usr/local/lib/python3.10/dist-packages (from transformers==4.28.0) (2022.10.31)\n",
            "Requirement already satisfied: requests in /usr/local/lib/python3.10/dist-packages (from transformers==4.28.0) (2.27.1)\n",
            "Requirement already satisfied: tokenizers!=0.11.3,<0.14,>=0.11.1 in /usr/local/lib/python3.10/dist-packages (from transformers==4.28.0) (0.13.3)\n",
            "Requirement already satisfied: tqdm>=4.27 in /usr/local/lib/python3.10/dist-packages (from transformers==4.28.0) (4.65.0)\n",
            "Requirement already satisfied: fsspec in /usr/local/lib/python3.10/dist-packages (from huggingface-hub<1.0,>=0.11.0->transformers==4.28.0) (2023.4.0)\n",
            "Requirement already satisfied: typing-extensions>=3.7.4.3 in /usr/local/lib/python3.10/dist-packages (from huggingface-hub<1.0,>=0.11.0->transformers==4.28.0) (4.5.0)\n",
            "Requirement already satisfied: urllib3<1.27,>=1.21.1 in /usr/local/lib/python3.10/dist-packages (from requests->transformers==4.28.0) (1.26.15)\n",
            "Requirement already satisfied: certifi>=2017.4.17 in /usr/local/lib/python3.10/dist-packages (from requests->transformers==4.28.0) (2022.12.7)\n",
            "Requirement already satisfied: charset-normalizer~=2.0.0 in /usr/local/lib/python3.10/dist-packages (from requests->transformers==4.28.0) (2.0.12)\n",
            "Requirement already satisfied: idna<4,>=2.5 in /usr/local/lib/python3.10/dist-packages (from requests->transformers==4.28.0) (3.4)\n",
            "Installing collected packages: transformers\n",
            "  Attempting uninstall: transformers\n",
            "    Found existing installation: transformers 4.29.2\n",
            "    Uninstalling transformers-4.29.2:\n",
            "      Successfully uninstalled transformers-4.29.2\n",
            "Successfully installed transformers-4.28.0\n"
          ]
        },
        {
          "output_type": "display_data",
          "data": {
            "application/vnd.colab-display-data+json": {
              "pip_warning": {
                "packages": [
                  "transformers"
                ]
              }
            }
          },
          "metadata": {}
        },
        {
          "output_type": "stream",
          "name": "stdout",
          "text": [
            "Looking in indexes: https://pypi.org/simple, https://us-python.pkg.dev/colab-wheels/public/simple/\n",
            "Requirement already satisfied: accelerate in /usr/local/lib/python3.10/dist-packages (0.19.0)\n",
            "Requirement already satisfied: numpy>=1.17 in /usr/local/lib/python3.10/dist-packages (from accelerate) (1.22.4)\n",
            "Requirement already satisfied: packaging>=20.0 in /usr/local/lib/python3.10/dist-packages (from accelerate) (23.1)\n",
            "Requirement already satisfied: psutil in /usr/local/lib/python3.10/dist-packages (from accelerate) (5.9.5)\n",
            "Requirement already satisfied: pyyaml in /usr/local/lib/python3.10/dist-packages (from accelerate) (6.0)\n",
            "Requirement already satisfied: torch>=1.6.0 in /usr/local/lib/python3.10/dist-packages (from accelerate) (2.0.1+cu118)\n",
            "Requirement already satisfied: filelock in /usr/local/lib/python3.10/dist-packages (from torch>=1.6.0->accelerate) (3.12.0)\n",
            "Requirement already satisfied: typing-extensions in /usr/local/lib/python3.10/dist-packages (from torch>=1.6.0->accelerate) (4.5.0)\n",
            "Requirement already satisfied: sympy in /usr/local/lib/python3.10/dist-packages (from torch>=1.6.0->accelerate) (1.11.1)\n",
            "Requirement already satisfied: networkx in /usr/local/lib/python3.10/dist-packages (from torch>=1.6.0->accelerate) (3.1)\n",
            "Requirement already satisfied: jinja2 in /usr/local/lib/python3.10/dist-packages (from torch>=1.6.0->accelerate) (3.1.2)\n",
            "Requirement already satisfied: triton==2.0.0 in /usr/local/lib/python3.10/dist-packages (from torch>=1.6.0->accelerate) (2.0.0)\n",
            "Requirement already satisfied: cmake in /usr/local/lib/python3.10/dist-packages (from triton==2.0.0->torch>=1.6.0->accelerate) (3.25.2)\n",
            "Requirement already satisfied: lit in /usr/local/lib/python3.10/dist-packages (from triton==2.0.0->torch>=1.6.0->accelerate) (16.0.5)\n",
            "Requirement already satisfied: MarkupSafe>=2.0 in /usr/local/lib/python3.10/dist-packages (from jinja2->torch>=1.6.0->accelerate) (2.1.2)\n",
            "Requirement already satisfied: mpmath>=0.19 in /usr/local/lib/python3.10/dist-packages (from sympy->torch>=1.6.0->accelerate) (1.3.0)\n",
            "Looking in indexes: https://pypi.org/simple, https://us-python.pkg.dev/colab-wheels/public/simple/\n",
            "Requirement already satisfied: datasets in /usr/local/lib/python3.10/dist-packages (2.12.0)\n",
            "Requirement already satisfied: numpy>=1.17 in /usr/local/lib/python3.10/dist-packages (from datasets) (1.22.4)\n",
            "Requirement already satisfied: pyarrow>=8.0.0 in /usr/local/lib/python3.10/dist-packages (from datasets) (9.0.0)\n",
            "Requirement already satisfied: dill<0.3.7,>=0.3.0 in /usr/local/lib/python3.10/dist-packages (from datasets) (0.3.6)\n",
            "Requirement already satisfied: pandas in /usr/local/lib/python3.10/dist-packages (from datasets) (1.5.3)\n",
            "Requirement already satisfied: requests>=2.19.0 in /usr/local/lib/python3.10/dist-packages (from datasets) (2.27.1)\n",
            "Requirement already satisfied: tqdm>=4.62.1 in /usr/local/lib/python3.10/dist-packages (from datasets) (4.65.0)\n",
            "Requirement already satisfied: xxhash in /usr/local/lib/python3.10/dist-packages (from datasets) (3.2.0)\n",
            "Requirement already satisfied: multiprocess in /usr/local/lib/python3.10/dist-packages (from datasets) (0.70.14)\n",
            "Requirement already satisfied: fsspec[http]>=2021.11.1 in /usr/local/lib/python3.10/dist-packages (from datasets) (2023.4.0)\n",
            "Requirement already satisfied: aiohttp in /usr/local/lib/python3.10/dist-packages (from datasets) (3.8.4)\n",
            "Requirement already satisfied: huggingface-hub<1.0.0,>=0.11.0 in /usr/local/lib/python3.10/dist-packages (from datasets) (0.14.1)\n",
            "Requirement already satisfied: packaging in /usr/local/lib/python3.10/dist-packages (from datasets) (23.1)\n",
            "Requirement already satisfied: responses<0.19 in /usr/local/lib/python3.10/dist-packages (from datasets) (0.18.0)\n",
            "Requirement already satisfied: pyyaml>=5.1 in /usr/local/lib/python3.10/dist-packages (from datasets) (6.0)\n",
            "Requirement already satisfied: attrs>=17.3.0 in /usr/local/lib/python3.10/dist-packages (from aiohttp->datasets) (23.1.0)\n",
            "Requirement already satisfied: charset-normalizer<4.0,>=2.0 in /usr/local/lib/python3.10/dist-packages (from aiohttp->datasets) (2.0.12)\n",
            "Requirement already satisfied: multidict<7.0,>=4.5 in /usr/local/lib/python3.10/dist-packages (from aiohttp->datasets) (6.0.4)\n",
            "Requirement already satisfied: async-timeout<5.0,>=4.0.0a3 in /usr/local/lib/python3.10/dist-packages (from aiohttp->datasets) (4.0.2)\n",
            "Requirement already satisfied: yarl<2.0,>=1.0 in /usr/local/lib/python3.10/dist-packages (from aiohttp->datasets) (1.9.2)\n",
            "Requirement already satisfied: frozenlist>=1.1.1 in /usr/local/lib/python3.10/dist-packages (from aiohttp->datasets) (1.3.3)\n",
            "Requirement already satisfied: aiosignal>=1.1.2 in /usr/local/lib/python3.10/dist-packages (from aiohttp->datasets) (1.3.1)\n",
            "Requirement already satisfied: filelock in /usr/local/lib/python3.10/dist-packages (from huggingface-hub<1.0.0,>=0.11.0->datasets) (3.12.0)\n",
            "Requirement already satisfied: typing-extensions>=3.7.4.3 in /usr/local/lib/python3.10/dist-packages (from huggingface-hub<1.0.0,>=0.11.0->datasets) (4.5.0)\n",
            "Requirement already satisfied: urllib3<1.27,>=1.21.1 in /usr/local/lib/python3.10/dist-packages (from requests>=2.19.0->datasets) (1.26.15)\n",
            "Requirement already satisfied: certifi>=2017.4.17 in /usr/local/lib/python3.10/dist-packages (from requests>=2.19.0->datasets) (2022.12.7)\n",
            "Requirement already satisfied: idna<4,>=2.5 in /usr/local/lib/python3.10/dist-packages (from requests>=2.19.0->datasets) (3.4)\n",
            "Requirement already satisfied: python-dateutil>=2.8.1 in /usr/local/lib/python3.10/dist-packages (from pandas->datasets) (2.8.2)\n",
            "Requirement already satisfied: pytz>=2020.1 in /usr/local/lib/python3.10/dist-packages (from pandas->datasets) (2022.7.1)\n",
            "Requirement already satisfied: six>=1.5 in /usr/local/lib/python3.10/dist-packages (from python-dateutil>=2.8.1->pandas->datasets) (1.16.0)\n",
            "Looking in indexes: https://pypi.org/simple, https://us-python.pkg.dev/colab-wheels/public/simple/\n",
            "Requirement already satisfied: evaluate in /usr/local/lib/python3.10/dist-packages (0.4.0)\n",
            "Requirement already satisfied: datasets>=2.0.0 in /usr/local/lib/python3.10/dist-packages (from evaluate) (2.12.0)\n",
            "Requirement already satisfied: numpy>=1.17 in /usr/local/lib/python3.10/dist-packages (from evaluate) (1.22.4)\n",
            "Requirement already satisfied: dill in /usr/local/lib/python3.10/dist-packages (from evaluate) (0.3.6)\n",
            "Requirement already satisfied: pandas in /usr/local/lib/python3.10/dist-packages (from evaluate) (1.5.3)\n",
            "Requirement already satisfied: requests>=2.19.0 in /usr/local/lib/python3.10/dist-packages (from evaluate) (2.27.1)\n",
            "Requirement already satisfied: tqdm>=4.62.1 in /usr/local/lib/python3.10/dist-packages (from evaluate) (4.65.0)\n",
            "Requirement already satisfied: xxhash in /usr/local/lib/python3.10/dist-packages (from evaluate) (3.2.0)\n",
            "Requirement already satisfied: multiprocess in /usr/local/lib/python3.10/dist-packages (from evaluate) (0.70.14)\n",
            "Requirement already satisfied: fsspec[http]>=2021.05.0 in /usr/local/lib/python3.10/dist-packages (from evaluate) (2023.4.0)\n",
            "Requirement already satisfied: huggingface-hub>=0.7.0 in /usr/local/lib/python3.10/dist-packages (from evaluate) (0.14.1)\n",
            "Requirement already satisfied: packaging in /usr/local/lib/python3.10/dist-packages (from evaluate) (23.1)\n",
            "Requirement already satisfied: responses<0.19 in /usr/local/lib/python3.10/dist-packages (from evaluate) (0.18.0)\n",
            "Requirement already satisfied: pyarrow>=8.0.0 in /usr/local/lib/python3.10/dist-packages (from datasets>=2.0.0->evaluate) (9.0.0)\n",
            "Requirement already satisfied: aiohttp in /usr/local/lib/python3.10/dist-packages (from datasets>=2.0.0->evaluate) (3.8.4)\n",
            "Requirement already satisfied: pyyaml>=5.1 in /usr/local/lib/python3.10/dist-packages (from datasets>=2.0.0->evaluate) (6.0)\n",
            "Requirement already satisfied: filelock in /usr/local/lib/python3.10/dist-packages (from huggingface-hub>=0.7.0->evaluate) (3.12.0)\n",
            "Requirement already satisfied: typing-extensions>=3.7.4.3 in /usr/local/lib/python3.10/dist-packages (from huggingface-hub>=0.7.0->evaluate) (4.5.0)\n",
            "Requirement already satisfied: urllib3<1.27,>=1.21.1 in /usr/local/lib/python3.10/dist-packages (from requests>=2.19.0->evaluate) (1.26.15)\n",
            "Requirement already satisfied: certifi>=2017.4.17 in /usr/local/lib/python3.10/dist-packages (from requests>=2.19.0->evaluate) (2022.12.7)\n",
            "Requirement already satisfied: charset-normalizer~=2.0.0 in /usr/local/lib/python3.10/dist-packages (from requests>=2.19.0->evaluate) (2.0.12)\n",
            "Requirement already satisfied: idna<4,>=2.5 in /usr/local/lib/python3.10/dist-packages (from requests>=2.19.0->evaluate) (3.4)\n",
            "Requirement already satisfied: python-dateutil>=2.8.1 in /usr/local/lib/python3.10/dist-packages (from pandas->evaluate) (2.8.2)\n",
            "Requirement already satisfied: pytz>=2020.1 in /usr/local/lib/python3.10/dist-packages (from pandas->evaluate) (2022.7.1)\n",
            "Requirement already satisfied: attrs>=17.3.0 in /usr/local/lib/python3.10/dist-packages (from aiohttp->datasets>=2.0.0->evaluate) (23.1.0)\n",
            "Requirement already satisfied: multidict<7.0,>=4.5 in /usr/local/lib/python3.10/dist-packages (from aiohttp->datasets>=2.0.0->evaluate) (6.0.4)\n",
            "Requirement already satisfied: async-timeout<5.0,>=4.0.0a3 in /usr/local/lib/python3.10/dist-packages (from aiohttp->datasets>=2.0.0->evaluate) (4.0.2)\n",
            "Requirement already satisfied: yarl<2.0,>=1.0 in /usr/local/lib/python3.10/dist-packages (from aiohttp->datasets>=2.0.0->evaluate) (1.9.2)\n",
            "Requirement already satisfied: frozenlist>=1.1.1 in /usr/local/lib/python3.10/dist-packages (from aiohttp->datasets>=2.0.0->evaluate) (1.3.3)\n",
            "Requirement already satisfied: aiosignal>=1.1.2 in /usr/local/lib/python3.10/dist-packages (from aiohttp->datasets>=2.0.0->evaluate) (1.3.1)\n",
            "Requirement already satisfied: six>=1.5 in /usr/local/lib/python3.10/dist-packages (from python-dateutil>=2.8.1->pandas->evaluate) (1.16.0)\n"
          ]
        }
      ]
    },
    {
      "cell_type": "code",
      "source": [
        "from transformers import AutoTokenizer, DataCollatorWithPadding, TrainingArguments, AutoModelForSequenceClassification, Trainer\n",
        "from datasets import Dataset,DatasetDict\n",
        "\n",
        "# Make data comply to transformers standard: text and labels\n",
        "train_data_transformers = train_data.loc[:, ['Abstract', 'Research Field']]\n",
        "train_data_transformers.columns = ['text', 'labels']\n",
        "test_data_transformers = test_data.loc[:, ['Abstract', 'Research Field']]\n",
        "test_data_transformers.columns = ['text', 'labels']\n",
        "valid_data_transformers = validation_data.loc[:, ['Abstract', 'Research Field']]\n",
        "valid_data_transformers.columns = ['text', 'labels']\n",
        "\n",
        "# convert to datasets\n",
        "train_ds = Dataset.from_pandas(train_data_transformers)\n",
        "valid_ds = Dataset.from_pandas(valid_data_transformers)\n",
        "test_ds = Dataset.from_pandas(test_data_transformers)\n",
        "\n",
        "dataset_dict = DatasetDict({'train': train_ds, 'validation': valid_ds, 'test': test_ds})\n",
        "\n",
        "# model and tokenizer definition\n",
        "checkpoint = \"bert-base-uncased\"\n",
        "tokenizer = AutoTokenizer.from_pretrained(checkpoint)\n",
        "\n",
        "id2label = {1: 'DENT', 2: 'AGRI', 3: 'ENER', 4: 'PSYC', 5: 'DECI', 6: 'VETE', 7: 'PHAR', 8: 'MATH',\n",
        "       9: 'NURS', 10: 'ECON', 11: 'COMP', 12: 'ARTS', 13: 'CENG', 14: 'ENVI', 15: 'SOCI', 16: 'BIOC',\n",
        "       17: 'MATE', 18: 'CHEM', 19: 'HEAL', 20: 'ENGI', 21: 'BUSI', 22: 'NEUR', 23: 'MEDI', 24: 'IMMU',\n",
        "       25: 'PHYS', 0: 'EART'}\n",
        "label2id = {value: key for key, value in id2label.items()}\n",
        "\n",
        "# tokenize text and convert labels into labekl id\n",
        "def tokenize_function(x):\n",
        "    tokens = tokenizer(str(x['text']), truncation=True, padding=\"max_length\")\n",
        "    tokens[\"labels\"] = [label2id[label] for label in x[\"labels\"]]\n",
        "    return tokens"
      ],
      "metadata": {
        "id": "8RRrFi6FuNON"
      },
      "execution_count": 126,
      "outputs": []
    },
    {
      "cell_type": "code",
      "source": [
        "for split_name, dataset in dataset_dict.items():\n",
        "    print(f'{split_name} split:')\n",
        "    print(f'input_ids length: {dataset.features[\"input_ids\"].length}')"
      ],
      "metadata": {
        "id": "16lcswYU_5-R"
      },
      "execution_count": null,
      "outputs": []
    },
    {
      "cell_type": "code",
      "source": [
        "def print_none_or_empty_strings(input_list):\n",
        "    for i, x in enumerate(input_list):\n",
        "        if x is None or x == '':\n",
        "            print(f'Index: {i}, Value: {x}')\n",
        "\n",
        "print_none_or_empty_strings(train_ds)\n",
        "\n",
        "from datasets import DatasetDict\n",
        "\n",
        "def check_dataset(dataset_dict: DatasetDict):\n",
        "    for split_name, dataset in dataset_dict.items():\n",
        "        print(f'Checking {split_name} split...')\n",
        "        column_names = dataset.column_names\n",
        "        if 'text' not in column_names:\n",
        "            print(f'Error: {split_name} split does not have a \"text\" column.')\n",
        "        else:\n",
        "            text_column = dataset['text']\n",
        "            for i, text in enumerate(text_column):\n",
        "                if not isinstance(text, str):\n",
        "                    print(f'Error: Element at index {i} in the \"text\" column of the {split_name} split is not a string.')\n",
        "                \n",
        "check_dataset(dataset_dict)"
      ],
      "metadata": {
        "id": "QxaoqdlI1XLt"
      },
      "execution_count": null,
      "outputs": []
    },
    {
      "cell_type": "code",
      "source": [
        "tokenized_datasets = dataset_dict.map(tokenize_function, batched=True)"
      ],
      "metadata": {
        "id": "lkizRYT81rfm"
      },
      "execution_count": null,
      "outputs": []
    },
    {
      "cell_type": "code",
      "source": [
        "from transformers import BertForSequenceClassification\n",
        "import evaluate\n",
        "\n",
        "accuracy = evaluate.load(\"accuracy\")\n",
        "def compute_metrics(eval_pred):\n",
        "    predictions, labels = eval_pred\n",
        "    predictions = np.argmax(predictions, axis=1)\n",
        "    return accuracy.compute(predictions=predictions, references=labels)\n",
        "\n",
        "training_args = TrainingArguments(\"/content/drive/MyDrive/Colab_Notebooks/Lab6/checkpoint_research/\", evaluation_strategy=\"epoch\", per_device_train_batch_size=8, per_device_eval_batch_size=8)\n",
        "model = BertForSequenceClassification.from_pretrained(checkpoint, num_labels=26, id2label=id2label, label2id=label2id)\n",
        "data_collator = DataCollatorWithPadding(tokenizer=tokenizer)\n",
        "\n",
        "trainer = Trainer(\n",
        "    model,\n",
        "    training_args,\n",
        "    train_dataset=tokenized_datasets[\"train\"],\n",
        "    eval_dataset=tokenized_datasets[\"validation\"],\n",
        "    data_collator=data_collator,\n",
        "    tokenizer=tokenizer,\n",
        "    compute_metrics=compute_metrics\n",
        ")\n",
        "\n",
        "trainer.train(resume_from_checkpoint=True)"
      ],
      "metadata": {
        "id": "WUBW7ddd-lYZ"
      },
      "execution_count": null,
      "outputs": []
    },
    {
      "cell_type": "markdown",
      "source": [
        "OLD\n",
        "========================================================================================================================================================"
      ],
      "metadata": {
        "id": "LENVGKiG-xfD"
      }
    },
    {
      "cell_type": "code",
      "source": [
        "from torch.utils.data import Dataset\n",
        "\n",
        "# Define a function to preprocess the data\n",
        "def preprocess(data, batch_size=1000):\n",
        "    input_features = ['Title']\n",
        "    input_text = data[input_features].iloc[:,0]\n",
        "    labels = data['Research Field']\n",
        "    \n",
        "    # Tokenize the input text in batches\n",
        "    encodings = {'input_ids': [], 'attention_mask': [], 'token_type_ids': []}\n",
        "    for i in range(0, len(input_text), batch_size):\n",
        "        batch = input_text[i:i+batch_size]\n",
        "        batch_encodings = tokenizer(batch.to_list(), truncation=True, padding=True)\n",
        "        encodings['input_ids'].extend(batch_encodings['input_ids'])\n",
        "        encodings['attention_mask'].extend(batch_encodings['attention_mask'])\n",
        "        if 'token_type_ids' in batch_encodings:\n",
        "            encodings['token_type_ids'].extend(batch_encodings['token_type_ids'])\n",
        "    \n",
        "    return encodings, labels\n",
        "\n",
        "# Preprocess the training and test data\n",
        "train_encodings, train_labels = preprocess(train_data)\n",
        "test_encodings, test_labels = preprocess(test_data)\n",
        "\n",
        "# Convert the labels to a NumPy array\n",
        "train_labels = train_labels.to_numpy()\n",
        "test_labels = test_labels.to_numpy()\n",
        "\n",
        "# Convert the data to a format that can be used by the Trainer\n",
        "train_data = CustomDataset(train_encodings, train_labels)\n",
        "test_data = CustomDataset(test_encodings, test_labels)\n",
        "\n",
        "# Convert the data to a format that can be used by the Trainer\n",
        "class CustomDataset(Dataset):\n",
        "    def __init__(self, encodings, labels):\n",
        "        self.encodings = encodings\n",
        "        self.labels = labels\n",
        "\n",
        "    def __getitem__(self, idx):\n",
        "        item = {key: torch.tensor(val[idx]) for key, val in self.encodings.items()}\n",
        "        item['labels'] = torch.tensor(self.labels[idx])\n",
        "        return item\n",
        "\n",
        "    def __len__(self):\n",
        "        return len(self.labels)\n",
        "\n",
        "train_data = CustomDataset(train_encodings, train_labels)\n",
        "test_data = CustomDataset(test_encodings, test_labels)"
      ],
      "metadata": {
        "id": "8VLsfMIH8Ru-"
      },
      "execution_count": null,
      "outputs": []
    },
    {
      "cell_type": "code",
      "source": [
        "print(f\"Type of train_labels: {type(train_labels)}\")\n",
        "print(f\"Shape of train_labels: {train_labels.shape}\")\n",
        "print(f\"Type of test_labels: {type(test_labels)}\")\n",
        "print(f\"Shape of test_labels: {test_labels.shape}\")"
      ],
      "metadata": {
        "id": "hLKCfsqs2glU"
      },
      "execution_count": null,
      "outputs": []
    },
    {
      "cell_type": "code",
      "source": [
        "def analyze_dataset(dataset):\n",
        "    # Check if the dataset has a 'labels' key\n",
        "    if 'labels' not in dataset[0]:\n",
        "        print(\"The dataset does not contain a 'labels' key.\")\n",
        "    else:\n",
        "        print(\"The dataset contains a 'labels' key.\")\n",
        "        # Check the shape of the labels\n",
        "        labels_shape = dataset[0]['labels'].shape\n",
        "        print(f\"The shape of the labels is: {labels_shape}\")\n",
        "\n",
        "# Analyze the training and test datasets\n",
        "print(\"Analyzing the training dataset:\")\n",
        "analyze_dataset(train_data)\n",
        "print(\"\\nAnalyzing the test dataset:\")\n",
        "analyze_dataset(test_data)"
      ],
      "metadata": {
        "id": "gBMHHiF72HA7"
      },
      "execution_count": null,
      "outputs": []
    },
    {
      "cell_type": "code",
      "source": [
        "from transformers import TrainingArguments, Trainer\n",
        "# Define the training arguments\n",
        "training_args = TrainingArguments(\n",
        "    output_dir='./results',\n",
        "    evaluation_strategy='epoch',\n",
        "    logging_dir='./logs',\n",
        ")\n",
        "\n",
        "# Create a Trainer and fine-tune the model\n",
        "model = AutoModelForSequenceClassification.from_pretrained(model_name)\n",
        "trainer = Trainer(\n",
        "    model=model,\n",
        "    args=training_args,\n",
        "    train_dataset=train_data,\n",
        "    eval_dataset=test_data,\n",
        ")\n",
        "trainer.train()"
      ],
      "metadata": {
        "id": "C0efhTM0dPiv"
      },
      "execution_count": null,
      "outputs": []
    },
    {
      "cell_type": "code",
      "source": [
        "# Evaluate the model on the test data\n",
        "results = trainer.evaluate()\n",
        "print(f'Overall accuracy: {results[\"eval_accuracy\"]}')"
      ],
      "metadata": {
        "id": "wvtGV-eJdUAB"
      },
      "execution_count": null,
      "outputs": []
    }
  ]
}